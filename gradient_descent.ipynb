{
 "cells": [
  {
   "cell_type": "code",
   "execution_count": 1,
   "metadata": {},
   "outputs": [],
   "source": [
    "import numpy as np\n",
    "import pandas as pd\n",
    "import matplotlib.pyplot as plt\n",
    "import seaborn as sns\n",
    "from tqdm import tqdm"
   ]
  },
  {
   "cell_type": "code",
   "execution_count": 2,
   "metadata": {},
   "outputs": [],
   "source": [
    "from sklearn.datasets import load_boston\n",
    "boston = load_boston()\n",
    "X = boston.data\n",
    "Y = boston.target"
   ]
  },
  {
   "cell_type": "code",
   "execution_count": 3,
   "metadata": {},
   "outputs": [
    {
     "data": {
      "text/plain": [
       "(506, 13)"
      ]
     },
     "execution_count": 3,
     "metadata": {},
     "output_type": "execute_result"
    }
   ],
   "source": [
    "X.shape"
   ]
  },
  {
   "cell_type": "code",
   "execution_count": 78,
   "metadata": {},
   "outputs": [
    {
     "data": {
      "text/plain": [
       "array([[6.3200e-03, 1.8000e+01, 2.3100e+00, ..., 1.5300e+01, 3.9690e+02,\n",
       "        4.9800e+00],\n",
       "       [2.7310e-02, 0.0000e+00, 7.0700e+00, ..., 1.7800e+01, 3.9690e+02,\n",
       "        9.1400e+00],\n",
       "       [2.7290e-02, 0.0000e+00, 7.0700e+00, ..., 1.7800e+01, 3.9283e+02,\n",
       "        4.0300e+00],\n",
       "       ...,\n",
       "       [6.0760e-02, 0.0000e+00, 1.1930e+01, ..., 2.1000e+01, 3.9690e+02,\n",
       "        5.6400e+00],\n",
       "       [1.0959e-01, 0.0000e+00, 1.1930e+01, ..., 2.1000e+01, 3.9345e+02,\n",
       "        6.4800e+00],\n",
       "       [4.7410e-02, 0.0000e+00, 1.1930e+01, ..., 2.1000e+01, 3.9690e+02,\n",
       "        7.8800e+00]])"
      ]
     },
     "execution_count": 78,
     "metadata": {},
     "output_type": "execute_result"
    }
   ],
   "source": [
    "X"
   ]
  },
  {
   "cell_type": "code",
   "execution_count": 65,
   "metadata": {},
   "outputs": [
    {
     "data": {
      "text/plain": [
       "array([[-0.41978194,  0.28482986, -1.2879095 , ..., -1.45900038,\n",
       "         0.44105193, -1.0755623 ],\n",
       "       [-0.41733926, -0.48772236, -0.59338101, ..., -0.30309415,\n",
       "         0.44105193, -0.49243937],\n",
       "       [-0.41734159, -0.48772236, -0.59338101, ..., -0.30309415,\n",
       "         0.39642699, -1.2087274 ],\n",
       "       ...,\n",
       "       [-0.41344658, -0.48772236,  0.11573841, ...,  1.17646583,\n",
       "         0.44105193, -0.98304761],\n",
       "       [-0.40776407, -0.48772236,  0.11573841, ...,  1.17646583,\n",
       "         0.4032249 , -0.86530163],\n",
       "       [-0.41500016, -0.48772236,  0.11573841, ...,  1.17646583,\n",
       "         0.44105193, -0.66905833]])"
      ]
     },
     "execution_count": 65,
     "metadata": {},
     "output_type": "execute_result"
    }
   ],
   "source": [
    "from sklearn.preprocessing import StandardScaler\n",
    "sc=StandardScaler()\n",
    "X_transform=sc.fit_transform(X)\n",
    "X_transform"
   ]
  },
  {
   "cell_type": "markdown",
   "metadata": {},
   "source": [
    "## GD for linear regression"
   ]
  },
  {
   "cell_type": "code",
   "execution_count": 120,
   "metadata": {},
   "outputs": [],
   "source": [
    "def predicted_y(weight,x,intercept):\n",
    "    y_lst=[]\n",
    "    for i in range(len(x)):\n",
    "        y_lst.append(weight@x[i]+intercept)\n",
    "    return np.array(y_lst)\n",
    "    \n",
    "\n",
    "# linear loss\n",
    "def loss(y,y_predicted):\n",
    "    n=len(y)\n",
    "    s=0\n",
    "    for i in range(n):\n",
    "        s+=(y[i]-y_predicted[i])**2\n",
    "    return (1/n)*s\n",
    "\n",
    "#derivative of loss w.r.t weight\n",
    "def dldw(x,y,y_predicted):\n",
    "    s=0\n",
    "    n=len(y)\n",
    "    for i in range(n):\n",
    "        s+=-x[i]*(y[i]-y_predicted[i])\n",
    "    return (2/n)*s\n",
    "    \n",
    "\n",
    "# derivative of loss w.r.t bias\n",
    "def dldb(y,y_predicted):\n",
    "    n=len(y)\n",
    "    s=0\n",
    "    for i in range(len(y)):\n",
    "        s+=-(y[i]-y_predicted[i])\n",
    "    return (2/n) * s\n",
    "   \n",
    "\n",
    "   \n",
    "        \n",
    "        \n",
    "# gradient function\n",
    "def gradient_descent(x,y):\n",
    "    weight_vector=np.random.randn(x.shape[1])\n",
    "    intercept=0\n",
    "    epoch = 2000\n",
    "    n = len(x)\n",
    "    linear_loss=[]\n",
    "    learning_rate = 0.001\n",
    "\n",
    "    for i in range(epoch):\n",
    "        \n",
    "        \n",
    "        y_predicted = predicted_y(weight_vector,x,intercept)\n",
    "        \n",
    "        weight_vector = weight_vector - learning_rate *dldw(x,y,y_predicted) \n",
    "        \n",
    "        \n",
    "        intercept = intercept - learning_rate * dldb(y,y_predicted)\n",
    "        linear_loss.append(loss(y,y_predicted))\n",
    "        \n",
    "    plt.plot(np.arange(1,epoch),linear_loss[1:])\n",
    "    plt.xlabel(\"number of epoch\")\n",
    "    plt.ylabel(\"loss\")\n",
    "    \n",
    "    return weight_vector,intercept\n",
    "    \n",
    "    "
   ]
  },
  {
   "cell_type": "code",
   "execution_count": 121,
   "metadata": {},
   "outputs": [
    {
     "data": {
      "image/png": "[encoded data removed]",
      "text/plain": [
       "<Figure size 432x288 with 1 Axes>"
      ]
     },
     "metadata": {
      "needs_background": "light"
     },
     "output_type": "display_data"
    }
   ],
   "source": [
    "w,b=gradient_descent(X_transform,Y)\n"
   ]
  },
  {
   "cell_type": "code",
   "execution_count": 122,
   "metadata": {},
   "outputs": [
    {
     "name": "stdout",
     "output_type": "stream",
     "text": [
      "weight: [-0.67002925  1.14151238 -0.43347128  0.8059298  -0.58690455  3.19475799\n",
      " -0.79964015 -2.97590072  1.0646441  -1.24010715 -1.35323892  0.93901686\n",
      " -3.28280848]\n",
      "bias: 22.12175328966187\n"
     ]
    }
   ],
   "source": [
    "print(\"weight:\",w)\n",
    "print(\"bias:\",b)"
   ]
  },
  {
   "cell_type": "markdown",
   "metadata": {},
   "source": [
    "# predict\n"
   ]
  },
  {
   "cell_type": "code",
   "execution_count": 126,
   "metadata": {},
   "outputs": [],
   "source": [
    "def predict(inp):\n",
    "    y_lst=[]\n",
    "    for i in range(len(inp)):\n",
    "        y_lst.append(w@inp[i]+b)\n",
    "    return np.array(y_lst)"
   ]
  },
  {
   "cell_type": "code",
   "execution_count": 127,
   "metadata": {},
   "outputs": [
    {
     "data": {
      "text/plain": [
       "array([29.85134607, 23.72693612, 30.01992523, 28.64603105, 28.00605601,\n",
       "       24.64436739, 21.61235073, 17.86671273, 10.03581506, 17.32090894,\n",
       "       17.64088476, 19.81732607, 20.43012056, 20.1364606 , 19.41271264,\n",
       "       19.94964662, 21.92894913, 17.32703425, 17.19506908, 18.73739137,\n",
       "       12.53651495, 17.7881762 , 16.33789895, 13.89804692, 15.80420209,\n",
       "       13.44638043, 15.51964309, 15.06613685, 19.85960709, 21.46141073,\n",
       "       11.79912351, 17.8995726 ,  9.88073218, 14.28921694, 13.98282507,\n",
       "       22.96859898, 21.72053463, 22.95569693, 23.2589709 , 31.61232355,\n",
       "       34.81172048, 28.50543146, 25.19634592, 24.75307004, 22.13388559,\n",
       "       21.19638385, 19.86958562, 16.47678453,  7.58501675, 15.87354726,\n",
       "       20.10534303, 22.14224963, 27.07512202, 23.28248267, 16.8129638 ,\n",
       "       31.36049952, 25.01695135, 31.725252  , 21.4955588 , 20.22240024,\n",
       "       16.59003367, 16.64558621, 22.77439958, 22.50283335, 23.13004967,\n",
       "       29.72030816, 24.48900808, 20.97169947, 16.94601404, 20.35781779,\n",
       "       25.23707881, 21.32215131, 24.22670537, 24.01237803, 25.65317425,\n",
       "       23.13256268, 21.40568378, 22.45529479, 20.38689586, 21.55557414,\n",
       "       28.35713841, 25.91484343, 25.80206283, 24.34740509, 24.41494861,\n",
       "       27.13892148, 21.79301377, 24.92791067, 29.96642874, 30.86362323,\n",
       "       26.75048927, 26.76974811, 27.49439273, 28.05731601, 24.91523565,\n",
       "       28.08585185, 23.83843407, 35.66420478, 35.90557669, 32.16894455,\n",
       "       25.0568609 , 26.25282467, 19.62572136, 20.38975632, 21.36592008,\n",
       "       18.29095698, 17.21782372, 20.88205921, 22.59925135, 19.93199845,\n",
       "       21.70331865, 26.24743467, 19.94201552, 20.0177694 , 24.46364978,\n",
       "       19.6768768 , 23.0874807 , 22.88196385, 19.94898861, 20.48648705,\n",
       "       20.6652305 , 20.8785675 , 18.90740191, 14.98790241, 18.73965125,\n",
       "       20.7832573 , 13.20329623, 15.61046719, 19.72801831, 14.59312668,\n",
       "       20.67874619, 20.00544829, 20.58624278, 16.20366976, 13.60168346,\n",
       "       18.12275889, 16.54800639, 20.12830873, 14.56321095, 17.25284844,\n",
       "       14.86619149,  4.94114   , 16.72600576, 13.84161208, 10.20790539,\n",
       "       14.03713769, 16.7252238 , 10.07794234, 11.4202813 , 16.3421437 ,\n",
       "       22.21473627, 18.97597851, 21.26281263, 18.33614763, 24.29029284,\n",
       "       22.26314802, 14.3462823 , 31.24384224, 26.39383363, 26.71303643,\n",
       "       30.83898186, 35.19481685, 39.52639312, 41.45341416, 22.67858005,\n",
       "       23.15836185, 35.93582117, 21.21589137, 24.3630205 , 24.76288094,\n",
       "       20.42725882, 22.01889438, 21.08470538, 27.56942552, 25.09462868,\n",
       "       30.5862358 , 25.01691376, 27.73388374, 30.41952298, 32.441619  ,\n",
       "       34.25690174, 26.82530004, 32.5286597 , 29.16259686, 20.88459088,\n",
       "       23.91133339, 36.15535407, 32.65032286, 31.72050257, 34.07079249,\n",
       "       30.72918611, 29.81403573, 32.78423992, 32.12840025, 31.11130072,\n",
       "       40.37951034, 35.16966847, 31.75577335, 33.77405382, 31.15162616,\n",
       "       31.8416282 , 28.40408969, 37.64553579, 41.25748136, 42.52442146,\n",
       "       22.72730823, 23.19493854, 16.8287984 , 23.32443212, 15.65744087,\n",
       "       21.34374252, 16.12980696, 22.59753536, 25.21699313, 12.30723483,\n",
       "       24.08597939, 25.84869383, 26.59541455, 23.38356616, 28.05514138,\n",
       "       32.04741561, 22.74791767, 31.31082116, 27.99847573, 37.61336595,\n",
       "       39.29544783, 36.38058561, 30.93043728, 36.06155681, 30.86667416,\n",
       "       22.86194947, 32.05289305, 37.48511365, 36.68809102, 30.96362176,\n",
       "       23.89400185, 29.14461363, 31.64742721, 27.70879773, 27.18324351,\n",
       "       26.18685206, 21.79538097, 22.66799439, 26.90278611, 14.48593785,\n",
       "       12.14959507, 19.57918786, 18.26761452, 20.66732053, 24.41900591,\n",
       "       24.43739233, 25.19040172, 25.60695058, 31.57176573, 23.50155587,\n",
       "       21.60377145, 36.72606244, 43.58141875, 35.53779154, 33.63782921,\n",
       "       34.43518631, 36.64973424, 40.98258925, 33.90581732, 35.061953  ,\n",
       "       27.25799771, 30.96403733, 40.6638339 , 38.70386224, 25.23886352,\n",
       "       21.85461523, 27.38128328, 27.71467867, 36.17736689, 35.97710374,\n",
       "       32.93800535, 35.58999885, 35.00072644, 29.79277082, 33.74187643,\n",
       "       36.98740953, 32.77643826, 39.29396967, 44.67209563, 31.82052201,\n",
       "       26.71577561, 20.3772208 , 25.58249283, 25.44607956, 26.09149865,\n",
       "       33.33542722, 34.53812153, 31.78149276, 24.35869911, 22.30457048,\n",
       "       26.91726264, 25.21307108, 17.19727675, 28.10173363, 31.69766683,\n",
       "       29.44780411, 27.61575816, 28.06143468, 32.12075888, 33.12455421,\n",
       "       29.81801412, 34.63491842, 31.47765122, 27.86611672, 22.82330053,\n",
       "       18.32911118, 26.64794184, 22.24785964, 24.69063313, 24.83325281,\n",
       "       19.69306247, 17.20523678, 18.0539525 , 24.15705811, 21.42172958,\n",
       "       24.75970707, 24.62602693, 22.57562778, 18.45294203, 25.28437796,\n",
       "       25.55362102, 24.14028776, 19.62654208, 21.54703891, 25.04371408,\n",
       "       21.95275162, 19.91611035, 23.33122217, 22.69964084, 22.16643987,\n",
       "       21.20414879, 20.34761956, 19.17373657, 22.64679227, 21.51977189,\n",
       "       21.27645397, 30.23984233, 22.94981692, 27.81445524, 29.48226224,\n",
       "       16.66626044, 14.82659129, 25.73266776, 27.58927044, 23.89334989,\n",
       "       21.59682802, 21.21188924, 17.70746589, 24.52182851, 15.77361633,\n",
       "       18.15105429, 20.50608953, 23.51207131, 22.96108672, 19.5559823 ,\n",
       "       22.71143574, 19.13302576, 17.37658142, 20.67017833, 39.03331504,\n",
       "       11.4484869 , 14.03621395,  7.20959244, 20.31946014, 31.07059242,\n",
       "       33.24332622, 22.90206759, 24.87646929,  5.30068076, -0.19095542,\n",
       "       25.25191833, 17.79861553, 19.9788793 , 15.92340265, 16.39795289,\n",
       "       16.56692701, 18.21081406, 12.72104201, 12.36651727,  2.6262771 ,\n",
       "        7.90221687,  5.51841642,  5.76134938,  5.84387938, 13.22504154,\n",
       "       16.25685571, 17.07183321,  9.11884558, 19.58050415, 17.23028087,\n",
       "       19.80857553, 18.89407458, 15.44559606,  7.01658875, 11.34633276,\n",
       "       12.10204099, 17.55409007, 17.8923058 , 12.39089737,  8.15514512,\n",
       "        9.22766072,  6.08109111, 18.06950275, 11.85309514, 18.50411163,\n",
       "       13.36303482, 15.41068434, -0.34831433,  9.6838539 , -4.16753856,\n",
       "        9.5474772 , 13.42148178,  6.50626097,  6.86624702, 15.46160295,\n",
       "       19.21372846, 17.49853273, 16.55866705, 11.78580566, 12.53918465,\n",
       "        9.23996128, 14.80359658, 14.13020506, 13.94664176, 12.55150494,\n",
       "       16.30159835, 17.13805998, 19.65494025, 16.67750037, 15.4082916 ,\n",
       "       13.91912548, 14.66405336,  9.08076747,  5.81697249, 13.08633778,\n",
       "       13.24003194, 17.59488632, 18.51430918, 18.2948202 , 11.63701666,\n",
       "       12.35694857, 17.67644478, 18.14648165, 17.18834151, 17.00730129,\n",
       "       16.27915757, 19.26814225, 18.34817862, 22.90647728, 15.15996257,\n",
       "       15.63106425, 12.07288347, 12.43127906, 17.11859399, 18.25215431,\n",
       "       18.98958191, 19.90288677, 19.68031623, 22.01703454, 19.92130024,\n",
       "       17.51874601, 12.98148437, 14.97833665, 15.77948608, 17.37213983,\n",
       "       18.34191774, 20.16551349, 20.93299309, 24.92278343, 13.88663323,\n",
       "       14.365805  , 19.22172793,  9.89573031, 17.67445424, 20.41387091,\n",
       "       21.36147266, 24.86450566, 26.46555371, 19.25763008, 18.4413339 ,\n",
       "       21.13871874, 17.93455401, 19.94170891, 12.58537642,  9.08914308,\n",
       "        4.64840777, 14.70050279, 17.03495113, 21.27299691, 21.85858465,\n",
       "       18.62147872, 14.4926264 , 19.5048983 , 21.90908128, 18.6307638 ,\n",
       "       20.76229238, 24.82405471, 23.04885475, 28.2897706 , 26.77068022,\n",
       "       22.76698186])"
      ]
     },
     "execution_count": 127,
     "metadata": {},
     "output_type": "execute_result"
    }
   ],
   "source": [
    "y_pred=predict(X_transform)\n",
    "y_pred"
   ]
  },
  {
   "cell_type": "code",
   "execution_count": 129,
   "metadata": {},
   "outputs": [
    {
     "data": {
      "text/html": [
       "<div>\n",
       "<style scoped>\n",
       "    .dataframe tbody tr th:only-of-type {\n",
       "        vertical-align: middle;\n",
       "    }\n",
       "\n",
       "    .dataframe tbody tr th {\n",
       "        vertical-align: top;\n",
       "    }\n",
       "\n",
       "    .dataframe thead th {\n",
       "        text-align: right;\n",
       "    }\n",
       "</style>\n",
       "<table border=\"1\" class=\"dataframe\">\n",
       "  <thead>\n",
       "    <tr style=\"text-align: right;\">\n",
       "      <th></th>\n",
       "      <th>y_actual</th>\n",
       "      <th>y_predicted</th>\n",
       "    </tr>\n",
       "  </thead>\n",
       "  <tbody>\n",
       "    <tr>\n",
       "      <th>0</th>\n",
       "      <td>24.0</td>\n",
       "      <td>29.9</td>\n",
       "    </tr>\n",
       "    <tr>\n",
       "      <th>1</th>\n",
       "      <td>21.6</td>\n",
       "      <td>23.7</td>\n",
       "    </tr>\n",
       "    <tr>\n",
       "      <th>2</th>\n",
       "      <td>34.7</td>\n",
       "      <td>30.0</td>\n",
       "    </tr>\n",
       "    <tr>\n",
       "      <th>3</th>\n",
       "      <td>33.4</td>\n",
       "      <td>28.6</td>\n",
       "    </tr>\n",
       "    <tr>\n",
       "      <th>4</th>\n",
       "      <td>36.2</td>\n",
       "      <td>28.0</td>\n",
       "    </tr>\n",
       "    <tr>\n",
       "      <th>...</th>\n",
       "      <td>...</td>\n",
       "      <td>...</td>\n",
       "    </tr>\n",
       "    <tr>\n",
       "      <th>501</th>\n",
       "      <td>22.4</td>\n",
       "      <td>24.8</td>\n",
       "    </tr>\n",
       "    <tr>\n",
       "      <th>502</th>\n",
       "      <td>20.6</td>\n",
       "      <td>23.0</td>\n",
       "    </tr>\n",
       "    <tr>\n",
       "      <th>503</th>\n",
       "      <td>23.9</td>\n",
       "      <td>28.3</td>\n",
       "    </tr>\n",
       "    <tr>\n",
       "      <th>504</th>\n",
       "      <td>22.0</td>\n",
       "      <td>26.8</td>\n",
       "    </tr>\n",
       "    <tr>\n",
       "      <th>505</th>\n",
       "      <td>11.9</td>\n",
       "      <td>22.8</td>\n",
       "    </tr>\n",
       "  </tbody>\n",
       "</table>\n",
       "<p>506 rows × 2 columns</p>\n",
       "</div>"
      ],
      "text/plain": [
       "     y_actual  y_predicted\n",
       "0        24.0         29.9\n",
       "1        21.6         23.7\n",
       "2        34.7         30.0\n",
       "3        33.4         28.6\n",
       "4        36.2         28.0\n",
       "..        ...          ...\n",
       "501      22.4         24.8\n",
       "502      20.6         23.0\n",
       "503      23.9         28.3\n",
       "504      22.0         26.8\n",
       "505      11.9         22.8\n",
       "\n",
       "[506 rows x 2 columns]"
      ]
     },
     "execution_count": 129,
     "metadata": {},
     "output_type": "execute_result"
    }
   ],
   "source": [
    "df_pred=pd.DataFrame()\n",
    "df_pred[\"y_actual\"]=Y\n",
    "df_pred[\"y_predicted\"]=np.round(y_pred,1)\n",
    "df_pred"
   ]
  },
  {
   "cell_type": "markdown",
   "metadata": {},
   "source": [
    "# sklearn"
   ]
  },
  {
   "cell_type": "code",
   "execution_count": 106,
   "metadata": {},
   "outputs": [
    {
     "data": {
      "text/plain": [
       "SGDRegressor(alpha=0, average=False, early_stopping=False, epsilon=0.1,\n",
       "             eta0=0.001, fit_intercept=True, l1_ratio=0.15,\n",
       "             learning_rate='constant', loss='squared_loss', max_iter=1000,\n",
       "             n_iter_no_change=5, penalty='l2', power_t=0.25, random_state=None,\n",
       "             shuffle=True, tol=0.001, validation_fraction=0.1, verbose=0,\n",
       "             warm_start=False)"
      ]
     },
     "execution_count": 106,
     "metadata": {},
     "output_type": "execute_result"
    }
   ],
   "source": [
    "from sklearn.linear_model import SGDRegressor\n",
    "model=SGDRegressor(alpha=0,learning_rate=\"constant\",eta0=0.001)\n",
    "model.fit(X_transform,Y)"
   ]
  },
  {
   "cell_type": "code",
   "execution_count": 107,
   "metadata": {},
   "outputs": [
    {
     "data": {
      "text/plain": [
       "array([22.53535865])"
      ]
     },
     "execution_count": 107,
     "metadata": {},
     "output_type": "execute_result"
    }
   ],
   "source": [
    "model.intercept_"
   ]
  },
  {
   "cell_type": "code",
   "execution_count": 108,
   "metadata": {},
   "outputs": [
    {
     "data": {
      "text/plain": [
       "array([-0.87316695,  0.94479976, -0.17075923,  0.76087482, -1.84854167,\n",
       "        2.74282926, -0.06265806, -2.98256187,  1.85530626, -1.23402982,\n",
       "       -2.00594165,  0.86604421, -3.69866087])"
      ]
     },
     "execution_count": 108,
     "metadata": {},
     "output_type": "execute_result"
    }
   ],
   "source": [
    "model.coef_"
   ]
  },
  {
   "cell_type": "code",
   "execution_count": 123,
   "metadata": {},
   "outputs": [
    {
     "data": {
      "text/plain": [
       "array([-0.67002925,  1.14151238, -0.43347128,  0.8059298 , -0.58690455,\n",
       "        3.19475799, -0.79964015, -2.97590072,  1.0646441 , -1.24010715,\n",
       "       -1.35323892,  0.93901686, -3.28280848])"
      ]
     },
     "execution_count": 123,
     "metadata": {},
     "output_type": "execute_result"
    }
   ],
   "source": [
    "w"
   ]
  },
  {
   "cell_type": "code",
   "execution_count": null,
   "metadata": {},
   "outputs": [],
   "source": []
  }
 ],
 "metadata": {
  "kernelspec": {
   "display_name": "Python 3",
   "language": "python",
   "name": "python3"
  },
  "language_info": {
   "codemirror_mode": {
    "name": "ipython",
    "version": 3
   },
   "file_extension": ".py",
   "mimetype": "text/x-python",
   "name": "python",
   "nbconvert_exporter": "python",
   "pygments_lexer": "ipython3",
   "version": "3.6.10"
  }
 },
 "nbformat": 4,
 "nbformat_minor": 4
}
