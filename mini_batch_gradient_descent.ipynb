{
 "cells": [
  {
   "cell_type": "code",
   "execution_count": 1,
   "metadata": {},
   "outputs": [],
   "source": [
    "import numpy as np\n",
    "import pandas as pd\n",
    "import matplotlib.pyplot as plt\n",
    "import seaborn as sns\n",
    "from tqdm import tqdm\n",
    "import random"
   ]
  },
  {
   "cell_type": "code",
   "execution_count": 2,
   "metadata": {},
   "outputs": [],
   "source": [
    "from sklearn.datasets import load_boston\n",
    "boston = load_boston()\n",
    "X = boston.data\n",
    "Y = boston.target"
   ]
  },
  {
   "cell_type": "code",
   "execution_count": 3,
   "metadata": {},
   "outputs": [
    {
     "data": {
      "text/plain": [
       "(506, 13)"
      ]
     },
     "execution_count": 3,
     "metadata": {},
     "output_type": "execute_result"
    }
   ],
   "source": [
    "X.shape"
   ]
  },
  {
   "cell_type": "code",
   "execution_count": 4,
   "metadata": {},
   "outputs": [
    {
     "data": {
      "text/plain": [
       "array([[6.3200e-03, 1.8000e+01, 2.3100e+00, ..., 1.5300e+01, 3.9690e+02,\n",
       "        4.9800e+00],\n",
       "       [2.7310e-02, 0.0000e+00, 7.0700e+00, ..., 1.7800e+01, 3.9690e+02,\n",
       "        9.1400e+00],\n",
       "       [2.7290e-02, 0.0000e+00, 7.0700e+00, ..., 1.7800e+01, 3.9283e+02,\n",
       "        4.0300e+00],\n",
       "       ...,\n",
       "       [6.0760e-02, 0.0000e+00, 1.1930e+01, ..., 2.1000e+01, 3.9690e+02,\n",
       "        5.6400e+00],\n",
       "       [1.0959e-01, 0.0000e+00, 1.1930e+01, ..., 2.1000e+01, 3.9345e+02,\n",
       "        6.4800e+00],\n",
       "       [4.7410e-02, 0.0000e+00, 1.1930e+01, ..., 2.1000e+01, 3.9690e+02,\n",
       "        7.8800e+00]])"
      ]
     },
     "execution_count": 4,
     "metadata": {},
     "output_type": "execute_result"
    }
   ],
   "source": [
    "X"
   ]
  },
  {
   "cell_type": "code",
   "execution_count": 5,
   "metadata": {},
   "outputs": [
    {
     "data": {
      "text/plain": [
       "array([[-0.41978194,  0.28482986, -1.2879095 , ..., -1.45900038,\n",
       "         0.44105193, -1.0755623 ],\n",
       "       [-0.41733926, -0.48772236, -0.59338101, ..., -0.30309415,\n",
       "         0.44105193, -0.49243937],\n",
       "       [-0.41734159, -0.48772236, -0.59338101, ..., -0.30309415,\n",
       "         0.39642699, -1.2087274 ],\n",
       "       ...,\n",
       "       [-0.41344658, -0.48772236,  0.11573841, ...,  1.17646583,\n",
       "         0.44105193, -0.98304761],\n",
       "       [-0.40776407, -0.48772236,  0.11573841, ...,  1.17646583,\n",
       "         0.4032249 , -0.86530163],\n",
       "       [-0.41500016, -0.48772236,  0.11573841, ...,  1.17646583,\n",
       "         0.44105193, -0.66905833]])"
      ]
     },
     "execution_count": 5,
     "metadata": {},
     "output_type": "execute_result"
    }
   ],
   "source": [
    "from sklearn.preprocessing import StandardScaler\n",
    "sc=StandardScaler()\n",
    "X_transform=sc.fit_transform(X)\n",
    "X_transform"
   ]
  },
  {
   "cell_type": "code",
   "execution_count": 6,
   "metadata": {},
   "outputs": [
    {
     "data": {
      "text/plain": [
       "array([[-0.4103848 , -0.48772236,  0.24705682, ...,  0.1130321 ,\n",
       "         0.33206621, -0.33404299],\n",
       "       [ 0.75046496, -0.48772236,  1.01599907, ...,  0.80657583,\n",
       "        -3.01897063,  0.98639405],\n",
       "       [ 0.01878921, -0.48772236,  1.01599907, ...,  0.80657583,\n",
       "        -3.66937637,  0.63035264],\n",
       "       ...,\n",
       "       [ 0.68661446, -0.48772236,  1.01599907, ...,  0.80657583,\n",
       "        -3.83745999,  0.84902374],\n",
       "       [-0.39982277, -0.48772236, -0.21109853, ...,  0.34421334,\n",
       "         0.42866221,  0.34299638],\n",
       "       [-0.40427171, -0.48772236, -0.37597609, ...,  1.13022958,\n",
       "         0.39489198, -0.045285  ]])"
      ]
     },
     "execution_count": 6,
     "metadata": {},
     "output_type": "execute_result"
    }
   ],
   "source": [
    "index=np.random.choice(506, 101, replace=False)\n",
    "X_transform[index]"
   ]
  },
  {
   "cell_type": "markdown",
   "metadata": {},
   "source": [
    "## mini_batch_GD for linear regression"
   ]
  },
  {
   "cell_type": "code",
   "execution_count": 50,
   "metadata": {},
   "outputs": [],
   "source": [
    "def predicted_y(weight,x,intercept):\n",
    "    y_lst=[]\n",
    "    for i in range(len(x)):\n",
    "        y_lst.append(weight@x[i]+intercept)\n",
    "    return np.array(y_lst)\n",
    "    \n",
    "\n",
    "# linear loss\n",
    "def loss(y,y_predicted):\n",
    "    n=len(y)\n",
    "    s=0\n",
    "    for i in range(n):\n",
    "        s+=(y[i]-y_predicted[i])**2\n",
    "    return (1/X.shape[0])*s\n",
    "\n",
    "#derivative of loss w.r.t weight\n",
    "def dldw(x,y,y_predicted):\n",
    "    s=0\n",
    "    n=len(y)\n",
    "    for i in range(n):\n",
    "        s+=-x[i]*(y[i]-y_predicted[i])\n",
    "    return (2/X.shape[0])*s\n",
    "    \n",
    "\n",
    "# derivative of loss w.r.t bias\n",
    "def dldb(y,y_predicted):\n",
    "    n=len(y)\n",
    "    s=0\n",
    "    for i in range(len(y)):\n",
    "        s+=-(y[i]-y_predicted[i])\n",
    "    return (2/X.shape[0]) * s\n",
    "\n",
    "   \n",
    "        \n",
    "        \n",
    "# gradient function\n",
    "def mini_batch_gradient_descent(x,y):\n",
    "    weight_vector=np.random.randn(x.shape[1])\n",
    "    intercept=0\n",
    "    epoch = 1000\n",
    "    n = len(x)\n",
    "    linear_loss=[]\n",
    "    learning_rate = 0.01\n",
    "    n_iter=[]\n",
    "    count=1\n",
    "    batch_size=32\n",
    "    for i in tqdm(range(epoch)):\n",
    "        \n",
    "        for j in range(int(n/batch_size)):\n",
    "            random_index=np.random.choice(x.shape[0],batch_size,replace=False) #batch size of 32\n",
    "            x_sample = x[random_index]\n",
    "            y_sample = y[random_index]\n",
    "            y_predicted = predicted_y(weight_vector,x_sample,intercept)\n",
    "            # updation of weight and bias for every records\n",
    "            weight_vector = weight_vector - learning_rate *dldw(x_sample,y_sample,y_predicted) \n",
    "            intercept = intercept - learning_rate * dldb(y_sample,y_predicted)\n",
    "            \n",
    "            #appending loss after every 100 iteration\n",
    "            if j%100==0:\n",
    "                linear_loss.append(loss(y_sample,y_predicted)) \n",
    "                n_iter.append(count)\n",
    "                count+=1\n",
    "        \n",
    "        \n",
    "    plt.plot(n_iter,linear_loss)\n",
    "    plt.xlabel(\"number of iteration\")\n",
    "    plt.ylabel(\"loss\")\n",
    "    \n",
    "    return weight_vector,intercept\n",
    "    \n",
    "    "
   ]
  },
  {
   "cell_type": "code",
   "execution_count": 51,
   "metadata": {},
   "outputs": [
    {
     "name": "stderr",
     "output_type": "stream",
     "text": [
      "100%|█████████████████████████████████████████████████████████████████████████████| 1000/1000 [00:09<00:00, 103.33it/s]\n"
     ]
    },
    {
     "data": {
      "image/png": "[encoded data removed]",
      "text/plain": [
       "<Figure size 432x288 with 1 Axes>"
      ]
     },
     "metadata": {
      "needs_background": "light"
     },
     "output_type": "display_data"
    }
   ],
   "source": [
    "w,b=mini_batch_gradient_descent(X_transform,Y)\n"
   ]
  },
  {
   "cell_type": "code",
   "execution_count": 52,
   "metadata": {},
   "outputs": [
    {
     "name": "stdout",
     "output_type": "stream",
     "text": [
      "weight: [-0.83564811  0.97783327 -0.20133278  0.73897136 -1.95994184  2.70342484\n",
      "  0.00449527 -3.06834235  1.87580971 -1.21115826 -2.01645776  0.84395181\n",
      " -3.75301638]\n",
      "bias: 22.49746357565466\n"
     ]
    }
   ],
   "source": [
    "print(\"weight:\",w)\n",
    "print(\"bias:\",b)"
   ]
  },
  {
   "cell_type": "markdown",
   "metadata": {},
   "source": [
    "# predict\n"
   ]
  },
  {
   "cell_type": "code",
   "execution_count": 53,
   "metadata": {},
   "outputs": [],
   "source": [
    "def predict(inp):\n",
    "    y_lst=[]\n",
    "    for i in range(len(inp)):\n",
    "        y_lst.append(w@inp[i]+b)\n",
    "    return np.array(y_lst)"
   ]
  },
  {
   "cell_type": "code",
   "execution_count": 54,
   "metadata": {},
   "outputs": [
    {
     "data": {
      "text/plain": [
       "array([30.46943539, 24.9548622 , 30.54511181, 28.66501722, 28.00034729,\n",
       "       25.28078809, 22.90794696, 19.43138135, 11.38381416, 18.82855309,\n",
       "       18.91050745, 21.49457121, 20.81641718, 19.69785084, 19.41673114,\n",
       "       19.43669702, 20.69299502, 17.03364781, 16.30404641, 18.51969611,\n",
       "       12.60936664, 17.78558121, 15.9502604 , 13.90355355, 15.79069066,\n",
       "       13.49692061, 15.58066278, 14.83572638, 19.68947352, 21.03009162,\n",
       "       11.5536625 , 18.18261129,  8.92525668, 14.37865911, 13.82639576,\n",
       "       23.72984231, 22.25644505, 23.04599016, 22.86090451, 31.14709615,\n",
       "       34.02875457, 27.88083879, 25.03616772, 24.44129478, 22.74637707,\n",
       "       21.87747515, 20.2035659 , 17.80383443,  8.82965593, 16.97790715,\n",
       "       20.99262048, 23.68532528, 27.4131314 , 23.78061546, 16.23203369,\n",
       "       30.70043567, 25.12671778, 32.67833541, 21.45719158, 20.72909547,\n",
       "       17.4992961 , 18.12532582, 23.65095763, 22.25276119, 23.36915869,\n",
       "       30.39386689, 25.52770164, 21.39373872, 17.67610832, 21.05911311,\n",
       "       25.11724448, 21.63064033, 24.45912326, 23.95222841, 25.6933855 ,\n",
       "       24.13737093, 23.08889368, 23.51189199, 21.42915097, 22.5848707 ,\n",
       "       28.39183306, 26.95435926, 26.0029107 , 25.01186175, 24.78712072,\n",
       "       27.79736608, 22.1469018 , 25.86385545, 30.94666462, 31.11812323,\n",
       "       27.36750334, 27.65713832, 28.3088263 , 28.45454238, 26.38256538,\n",
       "       28.92274954, 24.99188094, 36.13104515, 35.47507439, 32.57733696,\n",
       "       24.9759641 , 25.99991768, 20.1866434 , 20.67321565, 21.79203886,\n",
       "       18.86950897, 17.51826557, 21.10141151, 23.01450078, 20.13047797,\n",
       "       21.03177468, 26.9602252 , 21.15503711, 21.10649265, 25.57920728,\n",
       "       20.82107093, 23.79291303, 24.09699757, 20.73299329, 21.19152752,\n",
       "       20.69038688, 21.24285726, 19.31620455, 15.10769704, 19.31393947,\n",
       "       21.24696436, 13.34636323, 15.28757895, 19.0799166 , 14.17106331,\n",
       "       20.18670563, 19.56882217, 20.21902788, 15.88794443, 13.39121427,\n",
       "       17.40596025, 16.00382256, 19.50617968, 13.92173735, 16.57475599,\n",
       "       13.68992457,  4.05338165, 14.85115962, 12.19258764,  8.73058856,\n",
       "       12.1000315 , 15.87824667,  8.51694104,  9.7365968 , 14.85279107,\n",
       "       20.90583886, 18.33769287, 20.37290507, 17.34508781, 22.6610855 ,\n",
       "       20.44341393, 13.67931384, 33.15160817, 28.88147474, 25.65882893,\n",
       "       32.79876828, 36.69996697, 40.72162068, 42.03426121, 24.64722752,\n",
       "       25.26350675, 37.14906262, 22.95811926, 26.2799291 , 26.53709484,\n",
       "       22.40433065, 24.14996546, 22.98609923, 29.12677648, 26.56201589,\n",
       "       30.82260692, 25.6886127 , 29.20833959, 31.52151326, 32.75897689,\n",
       "       34.57581485, 27.55578103, 33.71244914, 30.79181163, 22.47246031,\n",
       "       24.56078043, 35.76687317, 33.80506639, 32.80642429, 34.92811168,\n",
       "       31.2076832 , 30.72176728, 33.37480635, 32.16770987, 31.60266869,\n",
       "       40.63121119, 36.37116712, 32.90044802, 34.94228569, 30.64866374,\n",
       "       31.20728288, 29.57280734, 37.43486224, 41.47041286, 42.63739279,\n",
       "       22.46570249, 23.46815734, 17.5976696 , 23.48369878, 16.92860888,\n",
       "       22.35016544, 16.98644008, 22.70902632, 25.01223874, 10.855039  ,\n",
       "       24.28994504, 26.31358541, 27.86628091, 24.59886528, 29.40646838,\n",
       "       33.18214998, 23.72632026, 32.1508366 , 29.520673  , 38.20885686,\n",
       "       39.67085041, 37.41749015, 32.19496847, 35.31169825, 31.04124394,\n",
       "       24.23879722, 33.10526686, 37.91502727, 37.02067744, 31.7325404 ,\n",
       "       25.03030015, 30.11513167, 32.5483344 , 28.26823313, 28.2615757 ,\n",
       "       27.12858172, 23.5367243 , 23.94627533, 27.26183374, 16.23198309,\n",
       "       13.29720025, 19.96987368, 19.79462749, 21.24240992, 24.06573502,\n",
       "       24.17785015, 25.01877195, 24.94271893, 30.02445731, 24.17741518,\n",
       "       21.89436148, 37.12228417, 43.23911834, 36.35535238, 34.84376648,\n",
       "       34.68757499, 37.05464246, 40.91725234, 34.32048053, 35.70360856,\n",
       "       28.06212576, 31.08950587, 40.71718298, 39.18135254, 25.56922017,\n",
       "       21.95805058, 26.89469184, 28.18221922, 35.43500241, 36.00562208,\n",
       "       33.47345558, 35.53238013, 34.75756414, 30.01105206, 34.88495072,\n",
       "       38.40763828, 33.92836628, 40.18648575, 44.55612952, 31.63299885,\n",
       "       27.61960484, 20.04862247, 26.70675021, 26.87459716, 26.59631514,\n",
       "       32.98503589, 33.96511181, 31.37379786, 25.43281014, 24.02476724,\n",
       "       28.100088  , 26.98710327, 19.12411105, 29.2624172 , 32.09420075,\n",
       "       30.92527027, 28.73618299, 28.68551211, 32.62779829, 32.73689215,\n",
       "       30.24763495, 35.06633249, 32.18996295, 28.63336948, 23.54379481,\n",
       "       18.48983093, 26.85411325, 23.22249634, 25.51366943, 25.46407721,\n",
       "       20.49284074, 17.56818276, 18.33146551, 24.27436068, 21.30781026,\n",
       "       24.82877578, 24.80876671, 22.80112679, 19.35029572, 25.07218044,\n",
       "       24.64814522, 23.64813414, 19.28145357, 22.06420474, 25.17032769,\n",
       "       22.50363282, 20.19479313, 23.57317827, 21.93536141, 21.34785631,\n",
       "       20.39216006, 19.90591993, 19.02944834, 21.91898496, 20.99310216,\n",
       "       21.165819  , 30.70509604, 23.29156533, 27.98946003, 28.86979435,\n",
       "       17.13093017, 15.36140523, 25.41423982, 27.43440503, 22.8788913 ,\n",
       "       21.16583825, 21.26045809, 17.57103931, 24.72744856, 14.5833443 ,\n",
       "       16.87033748, 19.75223174, 22.8004192 , 22.29780406, 19.0609989 ,\n",
       "       22.54054883, 18.78015084, 18.0355452 , 20.28455308, 37.63528064,\n",
       "       13.98170966, 15.28542844, 10.56443137, 23.4827504 , 32.63270673,\n",
       "       34.61572302, 24.7133331 , 26.00852571,  5.85805679,  0.55229305,\n",
       "       25.26459326, 17.61595353, 20.05324796, 15.78404724, 16.71777137,\n",
       "       15.05968177, 18.35489604, 13.21328536, 12.83178759,  3.13302745,\n",
       "        7.90603064,  6.03286627,  5.51980238,  6.25801704, 13.98274503,\n",
       "       16.99742375, 17.09071475,  9.68378626, 20.04109389, 17.79686501,\n",
       "       20.12995543, 19.08513472, 16.11509652,  6.63111896, 10.69641582,\n",
       "       11.84664967, 17.68362162, 18.08805454, 12.92878913,  7.51303395,\n",
       "        8.62813142,  7.87861597, 19.78088693, 13.39132918, 19.67920109,\n",
       "       15.42121804, 16.7825229 ,  1.4906772 , 11.71462457, -4.14862555,\n",
       "        9.50363138, 13.23216243,  6.8530143 ,  6.65587696, 14.52667857,\n",
       "       19.47810123, 17.94355149, 18.3024748 , 12.928399  , 14.36701003,\n",
       "        9.80828806, 16.14063983, 14.22757732, 14.0712681 , 12.87502279,\n",
       "       17.91600986, 18.48273314, 21.27995314, 16.8724385 , 15.87812067,\n",
       "       13.27644053, 14.47421767,  8.75341047,  4.76741316, 12.89914573,\n",
       "       12.68651595, 17.17231449, 18.56653672, 17.93951367, 11.4019565 ,\n",
       "       11.87722862, 17.52727022, 18.00587891, 17.36279202, 17.06487426,\n",
       "       16.39083617, 19.23986066, 18.39293012, 22.37848008, 15.17743054,\n",
       "       15.65983482, 12.50537513, 12.74135813, 17.04558723, 18.3452493 ,\n",
       "       18.88673205, 19.97937886, 19.61705453, 22.27408255, 20.13613952,\n",
       "       17.6474883 , 14.14221394, 16.63057571, 16.80115018, 18.37866937,\n",
       "       19.86944185, 22.64068233, 22.16610116, 25.35356628, 16.09002814,\n",
       "       15.81288469, 20.26372433, 11.32091796, 18.97702871, 21.68797483,\n",
       "       23.17411961, 26.82125784, 28.30656334, 20.76208449, 19.16593945,\n",
       "       21.96712897, 19.38583063, 21.0497511 , 13.03610495,  9.39392495,\n",
       "        4.81624152, 14.95870062, 17.14892606, 20.89253134, 20.89264704,\n",
       "       17.16319713, 14.25218305, 19.37617857, 21.57089935, 18.7011348 ,\n",
       "       20.73372044, 23.5921086 , 22.40782789, 27.69018293, 26.18743754,\n",
       "       22.37568893])"
      ]
     },
     "execution_count": 54,
     "metadata": {},
     "output_type": "execute_result"
    }
   ],
   "source": [
    "y_pred=predict(X_transform)\n",
    "y_pred"
   ]
  },
  {
   "cell_type": "code",
   "execution_count": 55,
   "metadata": {},
   "outputs": [
    {
     "data": {
      "text/html": [
       "<div>\n",
       "<style scoped>\n",
       "    .dataframe tbody tr th:only-of-type {\n",
       "        vertical-align: middle;\n",
       "    }\n",
       "\n",
       "    .dataframe tbody tr th {\n",
       "        vertical-align: top;\n",
       "    }\n",
       "\n",
       "    .dataframe thead th {\n",
       "        text-align: right;\n",
       "    }\n",
       "</style>\n",
       "<table border=\"1\" class=\"dataframe\">\n",
       "  <thead>\n",
       "    <tr style=\"text-align: right;\">\n",
       "      <th></th>\n",
       "      <th>y_actual</th>\n",
       "      <th>y_predicted</th>\n",
       "    </tr>\n",
       "  </thead>\n",
       "  <tbody>\n",
       "    <tr>\n",
       "      <th>0</th>\n",
       "      <td>24.0</td>\n",
       "      <td>30.5</td>\n",
       "    </tr>\n",
       "    <tr>\n",
       "      <th>1</th>\n",
       "      <td>21.6</td>\n",
       "      <td>25.0</td>\n",
       "    </tr>\n",
       "    <tr>\n",
       "      <th>2</th>\n",
       "      <td>34.7</td>\n",
       "      <td>30.5</td>\n",
       "    </tr>\n",
       "    <tr>\n",
       "      <th>3</th>\n",
       "      <td>33.4</td>\n",
       "      <td>28.7</td>\n",
       "    </tr>\n",
       "    <tr>\n",
       "      <th>4</th>\n",
       "      <td>36.2</td>\n",
       "      <td>28.0</td>\n",
       "    </tr>\n",
       "    <tr>\n",
       "      <th>...</th>\n",
       "      <td>...</td>\n",
       "      <td>...</td>\n",
       "    </tr>\n",
       "    <tr>\n",
       "      <th>501</th>\n",
       "      <td>22.4</td>\n",
       "      <td>23.6</td>\n",
       "    </tr>\n",
       "    <tr>\n",
       "      <th>502</th>\n",
       "      <td>20.6</td>\n",
       "      <td>22.4</td>\n",
       "    </tr>\n",
       "    <tr>\n",
       "      <th>503</th>\n",
       "      <td>23.9</td>\n",
       "      <td>27.7</td>\n",
       "    </tr>\n",
       "    <tr>\n",
       "      <th>504</th>\n",
       "      <td>22.0</td>\n",
       "      <td>26.2</td>\n",
       "    </tr>\n",
       "    <tr>\n",
       "      <th>505</th>\n",
       "      <td>11.9</td>\n",
       "      <td>22.4</td>\n",
       "    </tr>\n",
       "  </tbody>\n",
       "</table>\n",
       "<p>506 rows × 2 columns</p>\n",
       "</div>"
      ],
      "text/plain": [
       "     y_actual  y_predicted\n",
       "0        24.0         30.5\n",
       "1        21.6         25.0\n",
       "2        34.7         30.5\n",
       "3        33.4         28.7\n",
       "4        36.2         28.0\n",
       "..        ...          ...\n",
       "501      22.4         23.6\n",
       "502      20.6         22.4\n",
       "503      23.9         27.7\n",
       "504      22.0         26.2\n",
       "505      11.9         22.4\n",
       "\n",
       "[506 rows x 2 columns]"
      ]
     },
     "execution_count": 55,
     "metadata": {},
     "output_type": "execute_result"
    }
   ],
   "source": [
    "df_pred=pd.DataFrame()\n",
    "df_pred[\"y_actual\"]=Y\n",
    "df_pred[\"y_predicted\"]=np.round(y_pred,1)\n",
    "df_pred"
   ]
  },
  {
   "cell_type": "markdown",
   "metadata": {},
   "source": [
    "# sklearn"
   ]
  },
  {
   "cell_type": "code",
   "execution_count": 31,
   "metadata": {},
   "outputs": [
    {
     "data": {
      "text/plain": [
       "SGDRegressor(alpha=0, average=False, early_stopping=False, epsilon=0.1,\n",
       "             eta0=0.001, fit_intercept=True, l1_ratio=0.15,\n",
       "             learning_rate='constant', loss='squared_loss', max_iter=1000,\n",
       "             n_iter_no_change=5, penalty='l2', power_t=0.25, random_state=None,\n",
       "             shuffle=True, tol=0.001, validation_fraction=0.1, verbose=0,\n",
       "             warm_start=False)"
      ]
     },
     "execution_count": 31,
     "metadata": {},
     "output_type": "execute_result"
    }
   ],
   "source": [
    "from sklearn.linear_model import SGDRegressor\n",
    "model=SGDRegressor(alpha=0,learning_rate=\"constant\",eta0=0.001)\n",
    "model.fit(X_transform,Y)"
   ]
  },
  {
   "cell_type": "code",
   "execution_count": 32,
   "metadata": {},
   "outputs": [
    {
     "data": {
      "text/plain": [
       "array([22.53049421])"
      ]
     },
     "execution_count": 32,
     "metadata": {},
     "output_type": "execute_result"
    }
   ],
   "source": [
    "model.intercept_"
   ]
  },
  {
   "cell_type": "code",
   "execution_count": 33,
   "metadata": {},
   "outputs": [
    {
     "data": {
      "text/plain": [
       "array([-0.81589739,  0.91268359, -0.16276166,  0.71300785, -1.81615915,\n",
       "        2.75186925, -0.04546646, -2.97644044,  1.80125191, -1.16941354,\n",
       "       -1.98864102,  0.85320111, -3.6691723 ])"
      ]
     },
     "execution_count": 33,
     "metadata": {},
     "output_type": "execute_result"
    }
   ],
   "source": [
    "model.coef_"
   ]
  },
  {
   "cell_type": "code",
   "execution_count": 56,
   "metadata": {},
   "outputs": [
    {
     "data": {
      "text/plain": [
       "array([-0.83564811,  0.97783327, -0.20133278,  0.73897136, -1.95994184,\n",
       "        2.70342484,  0.00449527, -3.06834235,  1.87580971, -1.21115826,\n",
       "       -2.01645776,  0.84395181, -3.75301638])"
      ]
     },
     "execution_count": 56,
     "metadata": {},
     "output_type": "execute_result"
    }
   ],
   "source": [
    "w"
   ]
  },
  {
   "cell_type": "code",
   "execution_count": 57,
   "metadata": {},
   "outputs": [
    {
     "data": {
      "text/plain": [
       "22.49746357565466"
      ]
     },
     "execution_count": 57,
     "metadata": {},
     "output_type": "execute_result"
    }
   ],
   "source": [
    "b"
   ]
  },
  {
   "cell_type": "code",
   "execution_count": null,
   "metadata": {},
   "outputs": [],
   "source": []
  }
 ],
 "metadata": {
  "kernelspec": {
   "display_name": "Python 3",
   "language": "python",
   "name": "python3"
  },
  "language_info": {
   "codemirror_mode": {
    "name": "ipython",
    "version": 3
   },
   "file_extension": ".py",
   "mimetype": "text/x-python",
   "name": "python",
   "nbconvert_exporter": "python",
   "pygments_lexer": "ipython3",
   "version": "3.6.10"
  }
 },
 "nbformat": 4,
 "nbformat_minor": 4
}
