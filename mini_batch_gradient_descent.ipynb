{
 "cells": [
  {
   "cell_type": "code",
   "execution_count": 2,
   "metadata": {},
   "outputs": [],
   "source": [
    "import numpy as np\n",
    "import pandas as pd\n",
    "import matplotlib.pyplot as plt\n",
    "import seaborn as sns\n",
    "from tqdm import tqdm\n",
    "import random"
   ]
  },
  {
   "cell_type": "code",
   "execution_count": 36,
   "metadata": {},
   "outputs": [],
   "source": [
    "from sklearn.datasets import load_boston\n",
    "boston = load_boston()\n",
    "X = boston.data\n",
    "Y = boston.target"
   ]
  },
  {
   "cell_type": "code",
   "execution_count": 37,
   "metadata": {},
   "outputs": [
    {
     "data": {
      "text/plain": [
       "(506, 13)"
      ]
     },
     "execution_count": 37,
     "metadata": {},
     "output_type": "execute_result"
    }
   ],
   "source": [
    "X.shape"
   ]
  },
  {
   "cell_type": "code",
   "execution_count": 38,
   "metadata": {},
   "outputs": [
    {
     "data": {
      "text/plain": [
       "array([[6.3200e-03, 1.8000e+01, 2.3100e+00, ..., 1.5300e+01, 3.9690e+02,\n",
       "        4.9800e+00],\n",
       "       [2.7310e-02, 0.0000e+00, 7.0700e+00, ..., 1.7800e+01, 3.9690e+02,\n",
       "        9.1400e+00],\n",
       "       [2.7290e-02, 0.0000e+00, 7.0700e+00, ..., 1.7800e+01, 3.9283e+02,\n",
       "        4.0300e+00],\n",
       "       ...,\n",
       "       [6.0760e-02, 0.0000e+00, 1.1930e+01, ..., 2.1000e+01, 3.9690e+02,\n",
       "        5.6400e+00],\n",
       "       [1.0959e-01, 0.0000e+00, 1.1930e+01, ..., 2.1000e+01, 3.9345e+02,\n",
       "        6.4800e+00],\n",
       "       [4.7410e-02, 0.0000e+00, 1.1930e+01, ..., 2.1000e+01, 3.9690e+02,\n",
       "        7.8800e+00]])"
      ]
     },
     "execution_count": 38,
     "metadata": {},
     "output_type": "execute_result"
    }
   ],
   "source": [
    "X"
   ]
  },
  {
   "cell_type": "code",
   "execution_count": 39,
   "metadata": {},
   "outputs": [
    {
     "data": {
      "text/plain": [
       "array([[-0.41978194,  0.28482986, -1.2879095 , ..., -1.45900038,\n",
       "         0.44105193, -1.0755623 ],\n",
       "       [-0.41733926, -0.48772236, -0.59338101, ..., -0.30309415,\n",
       "         0.44105193, -0.49243937],\n",
       "       [-0.41734159, -0.48772236, -0.59338101, ..., -0.30309415,\n",
       "         0.39642699, -1.2087274 ],\n",
       "       ...,\n",
       "       [-0.41344658, -0.48772236,  0.11573841, ...,  1.17646583,\n",
       "         0.44105193, -0.98304761],\n",
       "       [-0.40776407, -0.48772236,  0.11573841, ...,  1.17646583,\n",
       "         0.4032249 , -0.86530163],\n",
       "       [-0.41500016, -0.48772236,  0.11573841, ...,  1.17646583,\n",
       "         0.44105193, -0.66905833]])"
      ]
     },
     "execution_count": 39,
     "metadata": {},
     "output_type": "execute_result"
    }
   ],
   "source": [
    "from sklearn.preprocessing import StandardScaler\n",
    "sc=StandardScaler()\n",
    "X_transform=sc.fit_transform(X)\n",
    "X_transform"
   ]
  },
  {
   "cell_type": "code",
   "execution_count": 40,
   "metadata": {},
   "outputs": [
    {
     "data": {
      "text/plain": [
       "array([[-0.4152492 , -0.48772236,  0.11573841, ...,  1.17646583,\n",
       "         0.44105193, -0.50084979],\n",
       "       [-0.41834124,  3.16044092, -1.0194363 , ..., -0.2568579 ,\n",
       "         0.39204125, -0.88212248],\n",
       "       [-0.41877066,  2.94584308, -1.3316823 , ..., -0.67298414,\n",
       "         0.37570436, -0.93398678],\n",
       "       ...,\n",
       "       [-0.41652931, -0.48772236, -0.86769058, ...,  0.80657583,\n",
       "         0.44105193, -0.39992467],\n",
       "       [ 0.26283202, -0.48772236,  1.01599907, ...,  0.80657583,\n",
       "         0.44105193,  0.94153844],\n",
       "       [-0.41299272,  2.5166474 , -1.29812315, ..., -1.69018163,\n",
       "         0.12681342, -1.07696404]])"
      ]
     },
     "execution_count": 40,
     "metadata": {},
     "output_type": "execute_result"
    }
   ],
   "source": [
    "index=np.random.choice(506, 101, replace=False)\n",
    "X_transform[index]"
   ]
  },
  {
   "cell_type": "markdown",
   "metadata": {},
   "source": [
    "## mini_batch_GD for linear regression"
   ]
  },
  {
   "cell_type": "code",
   "execution_count": 48,
   "metadata": {},
   "outputs": [],
   "source": [
    "def predicted_y(weight,x,intercept):\n",
    "    y_lst=[]\n",
    "    for i in range(len(x)):\n",
    "        y_lst.append(weight@x[i]+intercept)\n",
    "    return np.array(y_lst)\n",
    "    \n",
    "\n",
    "# linear loss\n",
    "def loss(y,y_predicted):\n",
    "    n=len(y)\n",
    "    s=0\n",
    "    for i in range(n):\n",
    "        s+=(y[i]-y_predicted[i])**2\n",
    "    return (1/X.shape[0])*s\n",
    "\n",
    "#derivative of loss w.r.t weight\n",
    "def dldw(x,y,y_predicted):\n",
    "    s=0\n",
    "    n=len(y)\n",
    "    for i in range(n):\n",
    "        s+=-x[i]*(y[i]-y_predicted[i])\n",
    "    return (2/X.shape[0])*s\n",
    "    \n",
    "\n",
    "# derivative of loss w.r.t bias\n",
    "def dldb(y,y_predicted):\n",
    "    n=len(y)\n",
    "    s=0\n",
    "    for i in range(len(y)):\n",
    "        s+=-(y[i]-y_predicted[i])\n",
    "    return (2/X.shape[0]) * s\n",
    "\n",
    "   \n",
    "        \n",
    "        \n",
    "# gradient function\n",
    "def mini_batch_gradient_descent(x,y):\n",
    "    weight_vector=np.random.randn(x.shape[1])\n",
    "    intercept=0\n",
    "    epoch = 500\n",
    "    n = len(x)\n",
    "    linear_loss=[]\n",
    "    learning_rate = 0.01\n",
    "    n_iter=[]\n",
    "    count=1\n",
    "    batch_size=101\n",
    "    for i in tqdm(range(epoch)):\n",
    "        \n",
    "        for j in range(int(n/batch_size)):\n",
    "            random_index=np.random.choice(x.shape[0],batch_size,replace=False) #batch size of 101\n",
    "            x_sample = x[random_index]\n",
    "            y_sample = y[random_index]\n",
    "            y_predicted = predicted_y(weight_vector,x_sample,intercept)\n",
    "            # updation of weight and bias for every batch size\n",
    "            weight_vector = weight_vector - learning_rate *dldw(x_sample,y_sample,y_predicted) \n",
    "            intercept = intercept - learning_rate * dldb(y_sample,y_predicted)\n",
    "            \n",
    "            \n",
    "            \n",
    "            linear_loss.append(loss(y_sample,y_predicted)) \n",
    "            n_iter.append(count)\n",
    "            count+=1\n",
    "        \n",
    "        \n",
    "    plt.plot(n_iter,linear_loss)\n",
    "    plt.xlabel(\"number of iteration\")\n",
    "    plt.ylabel(\"loss\")\n",
    "    \n",
    "    return weight_vector,intercept\n",
    "    \n",
    "    "
   ]
  },
  {
   "cell_type": "code",
   "execution_count": 49,
   "metadata": {},
   "outputs": [
    {
     "name": "stderr",
     "output_type": "stream",
     "text": [
      "100%|███████████████████████████████████████████████████████████████████████████████| 500/500 [00:04<00:00, 112.93it/s]\n"
     ]
    },
    {
     "data": {
      "image/png": "[encoded data removed]",
      "text/plain": [
       "<Figure size 432x288 with 1 Axes>"
      ]
     },
     "metadata": {
      "needs_background": "light"
     },
     "output_type": "display_data"
    }
   ],
   "source": [
    "w,b=mini_batch_gradient_descent(X_transform,Y)\n"
   ]
  },
  {
   "cell_type": "code",
   "execution_count": 50,
   "metadata": {},
   "outputs": [
    {
     "name": "stdout",
     "output_type": "stream",
     "text": [
      "weight: [-0.73428813  0.8650556  -0.31333454  0.75795315 -1.3795654   2.81488447\n",
      " -0.08932872 -2.69209692  1.48867477 -0.98746929 -1.88996003  0.85715014\n",
      " -3.7846456 ]\n",
      "bias: 22.56098731136974\n"
     ]
    }
   ],
   "source": [
    "print(\"weight:\",w)\n",
    "print(\"bias:\",b)"
   ]
  },
  {
   "cell_type": "markdown",
   "metadata": {},
   "source": [
    "# predict\n"
   ]
  },
  {
   "cell_type": "code",
   "execution_count": 53,
   "metadata": {},
   "outputs": [],
   "source": [
    "def predict(inp):\n",
    "    y_lst=[]\n",
    "    for i in range(len(inp)):\n",
    "        y_lst.append(w@inp[i]+b)\n",
    "    return np.array(y_lst)"
   ]
  },
  {
   "cell_type": "code",
   "execution_count": 54,
   "metadata": {},
   "outputs": [
    {
     "data": {
      "text/plain": [
       "array([30.71044348, 24.9577656 , 30.7507872 , 29.09939098, 28.42051988,\n",
       "       25.57176027, 22.98726968, 19.47849763, 11.30705569, 19.00569254,\n",
       "       19.06159435, 21.63499528, 20.9334761 , 20.16038525, 19.77173082,\n",
       "       19.86014632, 21.23537498, 17.32781782, 16.58065429, 18.74523323,\n",
       "       12.67574207, 18.01219212, 16.17374445, 14.05989818, 16.05182226,\n",
       "       13.73128609, 15.89051236, 15.12904676, 20.06499028, 21.42436813,\n",
       "       11.72310557, 18.42642473,  9.09115957, 14.48234691, 13.96219781,\n",
       "       23.56767889, 22.095432  , 23.0665979 , 22.91667898, 30.96372615,\n",
       "       33.94396836, 28.19285187, 25.23597211, 24.64269084, 22.80293301,\n",
       "       21.78102012, 20.10802493, 17.65748705,  8.53035988, 16.92525843,\n",
       "       20.97058935, 23.64676807, 27.59619647, 23.86720884, 16.49168393,\n",
       "       30.89108121, 25.49874392, 32.54121725, 21.83249782, 20.8416689 ,\n",
       "       17.55427821, 18.04458914, 23.84241759, 22.69704729, 24.02143742,\n",
       "       30.14890516, 25.13389169, 21.54814033, 17.71292411, 21.17379317,\n",
       "       25.16224568, 21.55270414, 24.45062519, 23.96793079, 25.67062647,\n",
       "       24.02038823, 22.77707508, 23.28989834, 21.35097962, 22.43150636,\n",
       "       28.42210058, 26.83566338, 25.96363544, 24.89835012, 24.79758595,\n",
       "       27.77107397, 22.03018032, 25.6230859 , 30.95529221, 31.21325087,\n",
       "       27.27545136, 27.53993491, 27.85173438, 28.05185933, 25.79616   ,\n",
       "       28.77656751, 24.71698949, 36.16987138, 35.60670629, 32.54811935,\n",
       "       25.10022245, 26.1829209 , 20.17883412, 20.65035527, 21.71655195,\n",
       "       18.64707064, 17.31905905, 20.97355547, 22.96670112, 20.07000399,\n",
       "       21.14009835, 27.00486322, 20.95000424, 20.9538941 , 25.46488149,\n",
       "       20.64904216, 23.78342762, 24.040414  , 20.60536738, 21.13387463,\n",
       "       20.3902488 , 20.90398111, 18.90546177, 14.60750268, 18.86788764,\n",
       "       20.85412537, 12.77177005, 15.41945001, 19.33341781, 14.33558067,\n",
       "       20.51116347, 19.91543546, 20.57869652, 16.17412462, 13.61419551,\n",
       "       17.69501127, 16.21554642, 19.77479507, 14.03247   , 16.75005203,\n",
       "       13.84352111,  3.94297929, 15.71531919, 13.0193252 ,  9.4348953 ,\n",
       "       12.97439722, 16.73659935,  9.24579248, 10.52527503, 15.73683347,\n",
       "       21.90465828, 19.20599949, 21.29816114, 18.25752877, 23.74878384,\n",
       "       21.5705197 , 14.5344992 , 33.02895253, 28.58128959, 26.76249311,\n",
       "       32.63578713, 36.71987328, 40.85955408, 42.28913667, 24.45309886,\n",
       "       25.07353741, 37.23120844, 22.7787089 , 26.07659471, 26.3845589 ,\n",
       "       22.16543549, 23.92797533, 22.49775181, 28.82039683, 26.22543972,\n",
       "       30.80944722, 25.59964722, 29.05343374, 31.3746007 , 32.61615744,\n",
       "       34.44755931, 27.20677816, 33.46264679, 30.45954119, 21.99460739,\n",
       "       24.29520968, 35.84338973, 33.39444873, 32.54748222, 34.73421096,\n",
       "       31.37543424, 30.82812979, 33.57428125, 32.0853789 , 31.45990151,\n",
       "       40.38470103, 36.2915433 , 32.75773043, 34.83461444, 30.87461354,\n",
       "       31.46181289, 29.2817727 , 37.46873189, 40.95575437, 42.15943649,\n",
       "       22.43119336, 23.47556673, 17.41950068, 23.46217039, 16.55956722,\n",
       "       22.12786672, 16.62250862, 22.55573222, 25.02627011, 10.63420667,\n",
       "       24.24104244, 26.15594636, 27.72896263, 24.26707286, 29.26361657,\n",
       "       32.93671006, 23.32889279, 32.00536585, 29.25977525, 38.14548926,\n",
       "       39.66456919, 37.35394624, 31.99800665, 35.4464127 , 30.98402067,\n",
       "       23.95395922, 33.04548127, 38.07409101, 37.13132412, 31.66996628,\n",
       "       24.79643661, 30.0911774 , 32.60281998, 28.22439202, 28.15478344,\n",
       "       27.03732302, 23.27796183, 23.89709996, 27.39599846, 16.32267237,\n",
       "       13.38662441, 20.31807512, 20.00565149, 21.54797928, 24.53817937,\n",
       "       24.55445433, 25.40960679, 25.69306074, 30.98111006, 24.40125609,\n",
       "       22.11270213, 36.79791347, 43.4964747 , 36.35588633, 34.79221399,\n",
       "       34.75903033, 37.16565077, 41.19287117, 34.35939095, 35.71630452,\n",
       "       27.91235606, 31.10390662, 40.71490874, 39.19572147, 25.27461576,\n",
       "       21.73963977, 26.85133371, 27.94733624, 35.56709892, 35.77855476,\n",
       "       33.19062885, 35.44762659, 34.69617964, 29.66328274, 34.46776006,\n",
       "       38.15036851, 33.72230804, 40.1202621 , 44.30280091, 31.60026192,\n",
       "       27.59329745, 20.23669374, 26.53730037, 26.6723136 , 26.4973201 ,\n",
       "       32.63406472, 33.65987862, 30.99509904, 25.28559226, 23.77099421,\n",
       "       28.09064598, 26.88433859, 18.90593683, 29.21517709, 32.19257411,\n",
       "       30.86862477, 28.45112133, 28.46136564, 32.50128445, 32.55716951,\n",
       "       29.78721044, 34.65075747, 31.6989876 , 28.74730624, 23.50748642,\n",
       "       18.32888776, 26.86168494, 23.09176981, 25.54018536, 25.57948891,\n",
       "       20.55359638, 17.62301632, 18.42025946, 24.4105035 , 21.50372525,\n",
       "       25.00196558, 24.96897215, 22.9534565 , 19.34879914, 25.3234819 ,\n",
       "       25.11338628, 24.04414012, 19.56154144, 22.32100092, 25.54028214,\n",
       "       22.90241803, 20.3026595 , 23.7652812 , 22.5833072 , 21.98856733,\n",
       "       20.91377542, 20.21859642, 19.36682394, 22.22253234, 21.25278893,\n",
       "       21.38117128, 31.07474662, 24.113872  , 28.14418215, 29.28851897,\n",
       "       17.77632512, 15.96353036, 25.75022179, 27.69206522, 23.78986182,\n",
       "       21.97349235, 22.14361355, 18.39472635, 25.31877214, 15.3591608 ,\n",
       "       17.70827862, 20.34492794, 23.47264626, 23.01620931, 19.65397013,\n",
       "       23.18081246, 19.30674617, 18.38986125, 20.75482514, 38.37077553,\n",
       "       13.74951001, 15.24282582,  9.93121185, 22.97170468, 32.49047574,\n",
       "       34.51251804, 24.39288563, 25.91072501,  5.43067526,  0.06928901,\n",
       "       25.46172891, 17.62879233, 20.02241708, 15.85338538, 16.68931539,\n",
       "       16.04148528, 18.38443997, 13.14588819, 12.73504334,  2.96562692,\n",
       "        7.8342208 ,  5.96347434,  5.51221826,  6.11419412, 13.92223189,\n",
       "       17.03221681, 17.24138957,  9.59989341, 20.13629984, 17.88523157,\n",
       "       20.22839629, 19.1308728 , 16.05715486,  6.81223257, 10.67572588,\n",
       "       11.99028837, 17.78224858, 18.15027399, 13.03300611,  7.81826624,\n",
       "        9.2150816 ,  7.44500663, 19.54065028, 12.75957871, 19.33123258,\n",
       "       15.3401447 , 16.38283939,  0.77046965, 11.29029438, -4.07144128,\n",
       "        9.5463258 , 13.28620183,  6.83699736,  7.3069581 , 14.85501282,\n",
       "       19.73884802, 18.10769316, 17.9900172 , 12.56763771, 13.87413656,\n",
       "        9.78588788, 15.76584933, 14.60366766, 14.08382844, 12.87141757,\n",
       "       17.49970536, 18.13155876, 20.94280671, 17.13227881, 16.16433054,\n",
       "       13.68171094, 14.8849934 ,  9.04600521,  5.00656416, 13.11503706,\n",
       "       13.09846799, 17.56248089, 18.87341622, 18.32331656, 11.67248564,\n",
       "       12.21179326, 17.86832444, 18.41359725, 17.61572731, 17.30237021,\n",
       "       16.67963836, 19.53572859, 18.65784079, 22.84578181, 15.51701512,\n",
       "       15.9345682 , 12.70341993, 13.04375536, 17.43204181, 18.69631035,\n",
       "       19.2445085 , 20.29980664, 20.01470688, 22.69797955, 20.34292402,\n",
       "       17.79041123, 14.10774285, 16.19021522, 16.62387541, 18.18965409,\n",
       "       19.58922407, 22.13036948, 21.93314394, 25.35893343, 15.59547628,\n",
       "       15.33509831, 20.03751608, 10.9437617 , 18.73262477, 21.51106898,\n",
       "       22.84146144, 26.53007043, 28.07569279, 20.52057129, 19.10379329,\n",
       "       22.01962735, 19.2389521 , 20.8929439 , 13.27104545,  9.55890964,\n",
       "        4.91453489, 15.26443457, 17.57092965, 21.03228365, 21.09945847,\n",
       "       17.43047798, 14.31399761, 19.55761131, 21.72413537, 18.74335853,\n",
       "       20.84969294, 23.92212666, 22.60632276, 27.97086427, 26.4808418 ,\n",
       "       22.59045975])"
      ]
     },
     "execution_count": 54,
     "metadata": {},
     "output_type": "execute_result"
    }
   ],
   "source": [
    "y_pred=predict(X_transform)\n",
    "y_pred"
   ]
  },
  {
   "cell_type": "code",
   "execution_count": 55,
   "metadata": {},
   "outputs": [
    {
     "data": {
      "text/html": [
       "<div>\n",
       "<style scoped>\n",
       "    .dataframe tbody tr th:only-of-type {\n",
       "        vertical-align: middle;\n",
       "    }\n",
       "\n",
       "    .dataframe tbody tr th {\n",
       "        vertical-align: top;\n",
       "    }\n",
       "\n",
       "    .dataframe thead th {\n",
       "        text-align: right;\n",
       "    }\n",
       "</style>\n",
       "<table border=\"1\" class=\"dataframe\">\n",
       "  <thead>\n",
       "    <tr style=\"text-align: right;\">\n",
       "      <th></th>\n",
       "      <th>y_actual</th>\n",
       "      <th>y_predicted</th>\n",
       "    </tr>\n",
       "  </thead>\n",
       "  <tbody>\n",
       "    <tr>\n",
       "      <th>0</th>\n",
       "      <td>24.0</td>\n",
       "      <td>30.7</td>\n",
       "    </tr>\n",
       "    <tr>\n",
       "      <th>1</th>\n",
       "      <td>21.6</td>\n",
       "      <td>25.0</td>\n",
       "    </tr>\n",
       "    <tr>\n",
       "      <th>2</th>\n",
       "      <td>34.7</td>\n",
       "      <td>30.8</td>\n",
       "    </tr>\n",
       "    <tr>\n",
       "      <th>3</th>\n",
       "      <td>33.4</td>\n",
       "      <td>29.1</td>\n",
       "    </tr>\n",
       "    <tr>\n",
       "      <th>4</th>\n",
       "      <td>36.2</td>\n",
       "      <td>28.4</td>\n",
       "    </tr>\n",
       "    <tr>\n",
       "      <th>...</th>\n",
       "      <td>...</td>\n",
       "      <td>...</td>\n",
       "    </tr>\n",
       "    <tr>\n",
       "      <th>501</th>\n",
       "      <td>22.4</td>\n",
       "      <td>23.9</td>\n",
       "    </tr>\n",
       "    <tr>\n",
       "      <th>502</th>\n",
       "      <td>20.6</td>\n",
       "      <td>22.6</td>\n",
       "    </tr>\n",
       "    <tr>\n",
       "      <th>503</th>\n",
       "      <td>23.9</td>\n",
       "      <td>28.0</td>\n",
       "    </tr>\n",
       "    <tr>\n",
       "      <th>504</th>\n",
       "      <td>22.0</td>\n",
       "      <td>26.5</td>\n",
       "    </tr>\n",
       "    <tr>\n",
       "      <th>505</th>\n",
       "      <td>11.9</td>\n",
       "      <td>22.6</td>\n",
       "    </tr>\n",
       "  </tbody>\n",
       "</table>\n",
       "<p>506 rows × 2 columns</p>\n",
       "</div>"
      ],
      "text/plain": [
       "     y_actual  y_predicted\n",
       "0        24.0         30.7\n",
       "1        21.6         25.0\n",
       "2        34.7         30.8\n",
       "3        33.4         29.1\n",
       "4        36.2         28.4\n",
       "..        ...          ...\n",
       "501      22.4         23.9\n",
       "502      20.6         22.6\n",
       "503      23.9         28.0\n",
       "504      22.0         26.5\n",
       "505      11.9         22.6\n",
       "\n",
       "[506 rows x 2 columns]"
      ]
     },
     "execution_count": 55,
     "metadata": {},
     "output_type": "execute_result"
    }
   ],
   "source": [
    "df_pred=pd.DataFrame()\n",
    "df_pred[\"y_actual\"]=Y\n",
    "df_pred[\"y_predicted\"]=np.round(y_pred,1)\n",
    "df_pred"
   ]
  },
  {
   "cell_type": "markdown",
   "metadata": {},
   "source": [
    "# sklearn"
   ]
  },
  {
   "cell_type": "code",
   "execution_count": 31,
   "metadata": {},
   "outputs": [
    {
     "data": {
      "text/plain": [
       "SGDRegressor(alpha=0, average=False, early_stopping=False, epsilon=0.1,\n",
       "             eta0=0.001, fit_intercept=True, l1_ratio=0.15,\n",
       "             learning_rate='constant', loss='squared_loss', max_iter=1000,\n",
       "             n_iter_no_change=5, penalty='l2', power_t=0.25, random_state=None,\n",
       "             shuffle=True, tol=0.001, validation_fraction=0.1, verbose=0,\n",
       "             warm_start=False)"
      ]
     },
     "execution_count": 31,
     "metadata": {},
     "output_type": "execute_result"
    }
   ],
   "source": [
    "from sklearn.linear_model import SGDRegressor\n",
    "model=SGDRegressor(alpha=0,learning_rate=\"constant\",eta0=0.001)\n",
    "model.fit(X_transform,Y)"
   ]
  },
  {
   "cell_type": "code",
   "execution_count": 32,
   "metadata": {},
   "outputs": [
    {
     "data": {
      "text/plain": [
       "array([22.53049421])"
      ]
     },
     "execution_count": 32,
     "metadata": {},
     "output_type": "execute_result"
    }
   ],
   "source": [
    "model.intercept_"
   ]
  },
  {
   "cell_type": "code",
   "execution_count": 33,
   "metadata": {},
   "outputs": [
    {
     "data": {
      "text/plain": [
       "array([-0.81589739,  0.91268359, -0.16276166,  0.71300785, -1.81615915,\n",
       "        2.75186925, -0.04546646, -2.97644044,  1.80125191, -1.16941354,\n",
       "       -1.98864102,  0.85320111, -3.6691723 ])"
      ]
     },
     "execution_count": 33,
     "metadata": {},
     "output_type": "execute_result"
    }
   ],
   "source": [
    "model.coef_"
   ]
  },
  {
   "cell_type": "code",
   "execution_count": 51,
   "metadata": {},
   "outputs": [
    {
     "data": {
      "text/plain": [
       "array([-0.73428813,  0.8650556 , -0.31333454,  0.75795315, -1.3795654 ,\n",
       "        2.81488447, -0.08932872, -2.69209692,  1.48867477, -0.98746929,\n",
       "       -1.88996003,  0.85715014, -3.7846456 ])"
      ]
     },
     "execution_count": 51,
     "metadata": {},
     "output_type": "execute_result"
    }
   ],
   "source": [
    "w"
   ]
  },
  {
   "cell_type": "code",
   "execution_count": 52,
   "metadata": {},
   "outputs": [
    {
     "data": {
      "text/plain": [
       "22.56098731136974"
      ]
     },
     "execution_count": 52,
     "metadata": {},
     "output_type": "execute_result"
    }
   ],
   "source": [
    "b"
   ]
  },
  {
   "cell_type": "code",
   "execution_count": null,
   "metadata": {},
   "outputs": [],
   "source": []
  }
 ],
 "metadata": {
  "kernelspec": {
   "display_name": "Python 3",
   "language": "python",
   "name": "python3"
  },
  "language_info": {
   "codemirror_mode": {
    "name": "ipython",
    "version": 3
   },
   "file_extension": ".py",
   "mimetype": "text/x-python",
   "name": "python",
   "nbconvert_exporter": "python",
   "pygments_lexer": "ipython3",
   "version": "3.6.10"
  }
 },
 "nbformat": 4,
 "nbformat_minor": 4
}
