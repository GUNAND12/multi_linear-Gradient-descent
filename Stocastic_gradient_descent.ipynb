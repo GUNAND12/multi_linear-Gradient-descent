{
 "cells": [
  {
   "cell_type": "code",
   "execution_count": 1,
   "metadata": {},
   "outputs": [],
   "source": [
    "import numpy as np\n",
    "import pandas as pd\n",
    "import matplotlib.pyplot as plt\n",
    "import seaborn as sns\n",
    "from tqdm import tqdm\n",
    "import random"
   ]
  },
  {
   "cell_type": "code",
   "execution_count": 2,
   "metadata": {},
   "outputs": [],
   "source": [
    "from sklearn.datasets import load_boston\n",
    "boston = load_boston()\n",
    "X = boston.data\n",
    "Y = boston.target"
   ]
  },
  {
   "cell_type": "code",
   "execution_count": 3,
   "metadata": {},
   "outputs": [
    {
     "data": {
      "text/plain": [
       "(506, 13)"
      ]
     },
     "execution_count": 3,
     "metadata": {},
     "output_type": "execute_result"
    }
   ],
   "source": [
    "X.shape"
   ]
  },
  {
   "cell_type": "code",
   "execution_count": 4,
   "metadata": {},
   "outputs": [
    {
     "data": {
      "text/plain": [
       "array([[6.3200e-03, 1.8000e+01, 2.3100e+00, ..., 1.5300e+01, 3.9690e+02,\n",
       "        4.9800e+00],\n",
       "       [2.7310e-02, 0.0000e+00, 7.0700e+00, ..., 1.7800e+01, 3.9690e+02,\n",
       "        9.1400e+00],\n",
       "       [2.7290e-02, 0.0000e+00, 7.0700e+00, ..., 1.7800e+01, 3.9283e+02,\n",
       "        4.0300e+00],\n",
       "       ...,\n",
       "       [6.0760e-02, 0.0000e+00, 1.1930e+01, ..., 2.1000e+01, 3.9690e+02,\n",
       "        5.6400e+00],\n",
       "       [1.0959e-01, 0.0000e+00, 1.1930e+01, ..., 2.1000e+01, 3.9345e+02,\n",
       "        6.4800e+00],\n",
       "       [4.7410e-02, 0.0000e+00, 1.1930e+01, ..., 2.1000e+01, 3.9690e+02,\n",
       "        7.8800e+00]])"
      ]
     },
     "execution_count": 4,
     "metadata": {},
     "output_type": "execute_result"
    }
   ],
   "source": [
    "X"
   ]
  },
  {
   "cell_type": "code",
   "execution_count": 5,
   "metadata": {},
   "outputs": [
    {
     "data": {
      "text/plain": [
       "array([[-0.41978194,  0.28482986, -1.2879095 , ..., -1.45900038,\n",
       "         0.44105193, -1.0755623 ],\n",
       "       [-0.41733926, -0.48772236, -0.59338101, ..., -0.30309415,\n",
       "         0.44105193, -0.49243937],\n",
       "       [-0.41734159, -0.48772236, -0.59338101, ..., -0.30309415,\n",
       "         0.39642699, -1.2087274 ],\n",
       "       ...,\n",
       "       [-0.41344658, -0.48772236,  0.11573841, ...,  1.17646583,\n",
       "         0.44105193, -0.98304761],\n",
       "       [-0.40776407, -0.48772236,  0.11573841, ...,  1.17646583,\n",
       "         0.4032249 , -0.86530163],\n",
       "       [-0.41500016, -0.48772236,  0.11573841, ...,  1.17646583,\n",
       "         0.44105193, -0.66905833]])"
      ]
     },
     "execution_count": 5,
     "metadata": {},
     "output_type": "execute_result"
    }
   ],
   "source": [
    "from sklearn.preprocessing import StandardScaler\n",
    "sc=StandardScaler()\n",
    "X_transform=sc.fit_transform(X)\n",
    "X_transform"
   ]
  },
  {
   "cell_type": "markdown",
   "metadata": {},
   "source": [
    "## SGD for linear regression"
   ]
  },
  {
   "cell_type": "code",
   "execution_count": 38,
   "metadata": {},
   "outputs": [],
   "source": [
    "def predicted_y(weight,x,intercept):\n",
    "    return weight@x+intercept\n",
    "    \n",
    "\n",
    "# linear loss\n",
    "def loss(y,y_predicted):\n",
    "    n=X.shape[0]\n",
    "    s=(y-y_predicted)**2\n",
    "    return (1/n)*s\n",
    "\n",
    "#derivative of loss w.r.t weight\n",
    "def dldw(x,y,y_predicted):\n",
    "    n=X.shape[0]\n",
    "    s=-x*(y-y_predicted)\n",
    "    return (2/n)*s\n",
    "    \n",
    "\n",
    "# derivative of loss w.r.t bias\n",
    "def dldb(y,y_predicted):\n",
    "    n=X.shape[0]\n",
    "    s=-(y-y_predicted)\n",
    "    return (2/n) * s\n",
    "   \n",
    "\n",
    "   \n",
    "        \n",
    "        \n",
    "# gradient function\n",
    "def gradient_descent(x,y):\n",
    "    weight_vector=np.random.randn(x.shape[1])\n",
    "    intercept=0\n",
    "    epoch = 2000\n",
    "    n = len(x)\n",
    "    linear_loss=[]\n",
    "    learning_rate = 0.001\n",
    "    \n",
    "    for i in tqdm(range(epoch)):\n",
    "        \n",
    "        for j in range(n):\n",
    "            random_index = random.randint(0,n-1)\n",
    "            x_sample = x[random_index]\n",
    "            y_sample = y[random_index]\n",
    "            y_predicted = predicted_y(weight_vector,x_sample,intercept)\n",
    "            # updation of weight and bias for every records\n",
    "            weight_vector = weight_vector - learning_rate *dldw(x_sample,y_sample,y_predicted) \n",
    "            intercept = intercept - learning_rate * dldb(y_sample,y_predicted)\n",
    "        linear_loss.append(loss(y_sample,y_predicted))    \n",
    "        \n",
    "        \n",
    "    plt.plot(np.arange(1,epoch),linear_loss[1:])\n",
    "    plt.xlabel(\"number of epoch\")\n",
    "    plt.ylabel(\"loss\")\n",
    "    \n",
    "    return weight_vector,intercept,\n",
    "    \n",
    "    "
   ]
  },
  {
   "cell_type": "code",
   "execution_count": 39,
   "metadata": {},
   "outputs": [
    {
     "name": "stderr",
     "output_type": "stream",
     "text": [
      "100%|██████████████████████████████████████████████████████████████████████████████| 2000/2000 [00:24<00:00, 80.59it/s]\n"
     ]
    },
    {
     "data": {
      "image/png": "[encoded data removed]",
      "text/plain": [
       "<Figure size 432x288 with 1 Axes>"
      ]
     },
     "metadata": {
      "needs_background": "light"
     },
     "output_type": "display_data"
    }
   ],
   "source": [
    "w,b=gradient_descent(X_transform,Y)\n"
   ]
  },
  {
   "cell_type": "code",
   "execution_count": 40,
   "metadata": {},
   "outputs": [
    {
     "name": "stdout",
     "output_type": "stream",
     "text": [
      "weight: [-0.52954651  0.7458838  -0.40947582  0.77208539 -0.42613122  3.05323906\n",
      " -0.15720171 -2.01078873  1.11189853 -1.28711519 -1.57598199  0.78135512\n",
      " -3.63182587]\n",
      "bias: 22.111685828872197\n"
     ]
    }
   ],
   "source": [
    "print(\"weight:\",w)\n",
    "print(\"bias:\",b)"
   ]
  },
  {
   "cell_type": "markdown",
   "metadata": {},
   "source": [
    "# predict\n"
   ]
  },
  {
   "cell_type": "code",
   "execution_count": 28,
   "metadata": {},
   "outputs": [],
   "source": [
    "def predict(inp):\n",
    "    y_lst=[]\n",
    "    for i in range(len(inp)):\n",
    "        y_lst.append(w@inp[i]+b)\n",
    "    return np.array(y_lst)"
   ]
  },
  {
   "cell_type": "code",
   "execution_count": 29,
   "metadata": {},
   "outputs": [
    {
     "data": {
      "text/plain": [
       "array([30.67181521, 24.998274  , 30.76008377, 29.07053505, 28.42317546,\n",
       "       25.55647428, 23.02511034, 19.60994772, 11.48870389, 19.11166281,\n",
       "       19.20913334, 21.71102179, 20.9422996 , 20.09134693, 19.74840803,\n",
       "       19.77759213, 21.10205879, 17.31961974, 16.45312442, 18.68490558,\n",
       "       12.70634453, 18.00686094, 16.20503502, 14.10145434, 16.07227912,\n",
       "       13.72048395, 15.89511021, 15.14223449, 20.08484286, 21.43044514,\n",
       "       11.76585967, 18.43552153,  9.13570525, 14.49561514, 13.98981513,\n",
       "       23.53342471, 22.05588829, 22.99146478, 22.8343435 , 30.75789715,\n",
       "       33.72991179, 28.12004284, 25.15405195, 24.57246408, 22.79034129,\n",
       "       21.74242089, 20.09468886, 17.76512008,  8.70343095, 16.97385921,\n",
       "       20.9779166 , 23.66223443, 27.53793391, 23.81039214, 16.39531335,\n",
       "       30.73368563, 25.37298569, 32.40761933, 21.7517374 , 20.78360023,\n",
       "       17.54484192, 18.08402437, 23.82268913, 22.67623967, 24.06892326,\n",
       "       29.99340965, 25.0136912 , 21.50030395, 17.70739841, 21.14756566,\n",
       "       25.10356377, 21.51254441, 24.37587955, 23.90663141, 25.61083504,\n",
       "       24.03446761, 22.84600367, 23.30294524, 21.40309027, 22.42142843,\n",
       "       28.34414812, 26.82086629, 25.87777461, 24.83381601, 24.78733206,\n",
       "       27.75838856, 22.01693967, 25.59664141, 30.97694119, 31.20317786,\n",
       "       27.26108579, 27.53363043, 27.78925929, 27.93331002, 25.77657286,\n",
       "       28.76145114, 24.7347564 , 36.2204202 , 35.5859019 , 32.56800078,\n",
       "       25.09048992, 26.15315065, 20.13910815, 20.6543348 , 21.71525886,\n",
       "       18.66516839, 17.34338427, 20.96934776, 22.98648551, 20.09218783,\n",
       "       21.09459072, 27.04278228, 21.00861683, 21.02977529, 25.48667779,\n",
       "       20.69459672, 23.80077546, 24.05819151, 20.6236337 , 21.13451971,\n",
       "       20.34380256, 20.88122325, 18.91411055, 14.65892596, 18.87524164,\n",
       "       20.83816105, 12.81931075, 15.41020449, 19.34328962, 14.33032048,\n",
       "       20.50986827, 19.90571479, 20.56559952, 16.16428048, 13.60330267,\n",
       "       17.71280416, 16.20988351, 19.78035988, 14.05415607, 16.76432467,\n",
       "       13.88382905,  4.00808142, 15.60884459, 13.02488668,  9.43770364,\n",
       "       12.99183923, 16.67490254,  9.24972669, 10.52548104, 15.71123871,\n",
       "       21.8645015 , 19.13819491, 21.08075493, 18.20232037, 23.59660536,\n",
       "       21.36802353, 14.44265767, 33.07490139, 28.60960396, 26.70258673,\n",
       "       32.53967715, 36.75929524, 40.80988818, 42.262469  , 24.50223842,\n",
       "       25.1024274 , 37.30363917, 22.7964436 , 26.13010591, 26.44584614,\n",
       "       22.2279296 , 23.98304143, 22.5320205 , 28.84436464, 26.21151391,\n",
       "       30.74530153, 25.57251101, 29.05101538, 31.38969608, 32.57072833,\n",
       "       34.4790894 , 27.16147676, 33.47084721, 30.46028239, 22.00353437,\n",
       "       24.28939527, 35.82009577, 33.34264106, 32.46678339, 34.69562796,\n",
       "       31.32421338, 30.7828681 , 33.52642581, 31.96180201, 31.33782924,\n",
       "       40.27595551, 36.23957149, 32.72511369, 34.80265666, 30.71475514,\n",
       "       31.30327371, 29.16986087, 37.34613818, 40.8115162 , 42.01373912,\n",
       "       22.3578594 , 23.46788953, 17.46434104, 23.36105039, 16.54065412,\n",
       "       22.08453884, 16.59069502, 22.43894005, 24.97448278, 10.62306955,\n",
       "       24.19926308, 26.03430223, 27.77175216, 24.22731832, 29.19912905,\n",
       "       32.87491266, 23.31519389, 31.93058817, 29.28154101, 38.19443377,\n",
       "       39.73780118, 37.40624419, 32.02796588, 35.38762792, 30.89307394,\n",
       "       23.96331868, 33.07909501, 38.11877075, 37.17464134, 31.56474306,\n",
       "       24.79383006, 30.01569611, 32.62996134, 28.15700123, 28.13362702,\n",
       "       27.06980507, 23.30628435, 23.91590278, 27.31327749, 16.35876309,\n",
       "       13.44953822, 20.29199336, 20.05515999, 21.55216896, 24.48896786,\n",
       "       24.48171075, 25.3135786 , 25.63196446, 30.96615727, 24.29850314,\n",
       "       21.99835342, 36.66020219, 43.51210712, 36.3613983 , 34.77870123,\n",
       "       34.74720256, 37.16243759, 41.21617928, 34.37923426, 35.70792546,\n",
       "       27.81965198, 31.11851399, 40.73754002, 39.15108824, 25.11847605,\n",
       "       21.66735373, 26.71728369, 27.88710907, 35.42019012, 35.53769901,\n",
       "       33.08039025, 35.27094025, 34.46313775, 29.54699417, 34.4170059 ,\n",
       "       38.18312697, 33.69787979, 40.01294818, 44.0640981 , 31.48120792,\n",
       "       27.54853852, 20.12964181, 26.46501012, 26.62780599, 26.43516537,\n",
       "       32.42393559, 33.46020131, 30.77832304, 25.28521064, 23.81328054,\n",
       "       28.12046323, 26.94618793, 19.00646146, 29.11958791, 32.10394425,\n",
       "       30.84056503, 28.43528837, 28.40290521, 32.43681479, 32.46017289,\n",
       "       29.69814701, 34.59198999, 31.62603005, 28.72810591, 23.48609544,\n",
       "       18.21169836, 26.7789653 , 23.09957225, 25.527985  , 25.59645377,\n",
       "       20.54497131, 17.66878507, 18.4318084 , 24.39603205, 21.48724571,\n",
       "       24.9613934 , 24.92782629, 22.90114231, 19.34507857, 25.2597665 ,\n",
       "       25.01504391, 23.96946449, 19.53989972, 22.31433713, 25.52026131,\n",
       "       22.91687261, 20.24692171, 23.68302807, 22.50247379, 21.91428446,\n",
       "       20.82612402, 20.14356896, 19.321985  , 22.12723683, 21.17435363,\n",
       "       21.31938679, 31.07515326, 24.17227887, 28.06490952, 29.16632306,\n",
       "       17.81793889, 16.01704492, 25.60792223, 27.55655517, 23.72911297,\n",
       "       21.91391112, 22.09632102, 18.3133992 , 25.21130053, 15.16990383,\n",
       "       17.50937644, 20.22585508, 23.34638775, 22.85863969, 19.61218777,\n",
       "       23.12833644, 19.2874143 , 18.32672841, 20.60075299, 38.27672557,\n",
       "       13.60593698, 15.19103505,  9.83716971, 22.90451065, 32.36306048,\n",
       "       34.39003209, 24.38756064, 25.74650794,  5.50911769,  0.11870861,\n",
       "       25.47093697, 17.67447714, 20.08920607, 15.87701559, 16.71884852,\n",
       "       15.85307515, 18.42714322, 13.17894582, 12.77589762,  2.94204482,\n",
       "        7.87312765,  5.94859986,  5.52019023,  6.14847477, 13.93791135,\n",
       "       17.04010903, 17.25439881,  9.61928759, 20.13890319, 17.87387353,\n",
       "       20.25925064, 19.17626779, 16.08201867,  6.80022824, 10.71592883,\n",
       "       12.01382477, 17.81161444, 18.19369915, 12.99128109,  7.75377858,\n",
       "        9.07975387,  7.40558752, 19.50863171, 12.84560155, 19.38948239,\n",
       "       15.18168431, 16.42987821,  0.81133028, 11.25763412, -4.12888844,\n",
       "        9.58871129, 13.32767766,  6.79665328,  7.12368469, 14.84232832,\n",
       "       19.73453336, 18.09872988, 17.97468139, 12.60187888, 13.84134119,\n",
       "        9.78203279, 15.70853442, 14.4657995 , 14.08125953, 12.90726266,\n",
       "       17.52816436, 18.19606176, 20.93389639, 17.11873704, 16.12270198,\n",
       "       13.6964683 , 14.84272651,  9.04655044,  5.03425606, 13.12383157,\n",
       "       13.07051842, 17.58411051, 18.88815414, 18.34621112, 11.67318679,\n",
       "       12.21797328, 17.87963101, 18.41291858, 17.64025358, 17.33540581,\n",
       "       16.67714133, 19.58100275, 18.6831288 , 22.90694166, 15.51823745,\n",
       "       15.9317079 , 12.687403  , 12.99474033, 17.4253608 , 18.68934269,\n",
       "       19.26605652, 20.31484975, 20.01005411, 22.69203702, 20.3270962 ,\n",
       "       17.74717162, 14.10687702, 16.28474816, 16.640189  , 18.16691027,\n",
       "       19.65959775, 22.21467738, 21.98790977, 25.38129243, 15.64420892,\n",
       "       15.44223986, 20.12154222, 10.99302868, 18.78871468, 21.5129057 ,\n",
       "       22.8739352 , 26.57640987, 28.13258124, 20.51542219, 19.09451384,\n",
       "       22.02596704, 19.29488579, 20.878256  , 13.33180679,  9.65448792,\n",
       "        5.02989069, 15.35234086, 17.61247571, 20.95917592, 21.02515879,\n",
       "       17.35517609, 14.31644498, 19.53094825, 21.68390751, 18.7129897 ,\n",
       "       20.84081884, 23.84796822, 22.52256406, 27.91589845, 26.42447339,\n",
       "       22.50587396])"
      ]
     },
     "execution_count": 29,
     "metadata": {},
     "output_type": "execute_result"
    }
   ],
   "source": [
    "y_pred=predict(X_transform)\n",
    "y_pred"
   ]
  },
  {
   "cell_type": "code",
   "execution_count": 30,
   "metadata": {},
   "outputs": [
    {
     "data": {
      "text/html": [
       "<div>\n",
       "<style scoped>\n",
       "    .dataframe tbody tr th:only-of-type {\n",
       "        vertical-align: middle;\n",
       "    }\n",
       "\n",
       "    .dataframe tbody tr th {\n",
       "        vertical-align: top;\n",
       "    }\n",
       "\n",
       "    .dataframe thead th {\n",
       "        text-align: right;\n",
       "    }\n",
       "</style>\n",
       "<table border=\"1\" class=\"dataframe\">\n",
       "  <thead>\n",
       "    <tr style=\"text-align: right;\">\n",
       "      <th></th>\n",
       "      <th>y_actual</th>\n",
       "      <th>y_predicted</th>\n",
       "    </tr>\n",
       "  </thead>\n",
       "  <tbody>\n",
       "    <tr>\n",
       "      <th>0</th>\n",
       "      <td>24.0</td>\n",
       "      <td>30.7</td>\n",
       "    </tr>\n",
       "    <tr>\n",
       "      <th>1</th>\n",
       "      <td>21.6</td>\n",
       "      <td>25.0</td>\n",
       "    </tr>\n",
       "    <tr>\n",
       "      <th>2</th>\n",
       "      <td>34.7</td>\n",
       "      <td>30.8</td>\n",
       "    </tr>\n",
       "    <tr>\n",
       "      <th>3</th>\n",
       "      <td>33.4</td>\n",
       "      <td>29.1</td>\n",
       "    </tr>\n",
       "    <tr>\n",
       "      <th>4</th>\n",
       "      <td>36.2</td>\n",
       "      <td>28.4</td>\n",
       "    </tr>\n",
       "    <tr>\n",
       "      <th>...</th>\n",
       "      <td>...</td>\n",
       "      <td>...</td>\n",
       "    </tr>\n",
       "    <tr>\n",
       "      <th>501</th>\n",
       "      <td>22.4</td>\n",
       "      <td>23.8</td>\n",
       "    </tr>\n",
       "    <tr>\n",
       "      <th>502</th>\n",
       "      <td>20.6</td>\n",
       "      <td>22.5</td>\n",
       "    </tr>\n",
       "    <tr>\n",
       "      <th>503</th>\n",
       "      <td>23.9</td>\n",
       "      <td>27.9</td>\n",
       "    </tr>\n",
       "    <tr>\n",
       "      <th>504</th>\n",
       "      <td>22.0</td>\n",
       "      <td>26.4</td>\n",
       "    </tr>\n",
       "    <tr>\n",
       "      <th>505</th>\n",
       "      <td>11.9</td>\n",
       "      <td>22.5</td>\n",
       "    </tr>\n",
       "  </tbody>\n",
       "</table>\n",
       "<p>506 rows × 2 columns</p>\n",
       "</div>"
      ],
      "text/plain": [
       "     y_actual  y_predicted\n",
       "0        24.0         30.7\n",
       "1        21.6         25.0\n",
       "2        34.7         30.8\n",
       "3        33.4         29.1\n",
       "4        36.2         28.4\n",
       "..        ...          ...\n",
       "501      22.4         23.8\n",
       "502      20.6         22.5\n",
       "503      23.9         27.9\n",
       "504      22.0         26.4\n",
       "505      11.9         22.5\n",
       "\n",
       "[506 rows x 2 columns]"
      ]
     },
     "execution_count": 30,
     "metadata": {},
     "output_type": "execute_result"
    }
   ],
   "source": [
    "df_pred=pd.DataFrame()\n",
    "df_pred[\"y_actual\"]=Y\n",
    "df_pred[\"y_predicted\"]=np.round(y_pred,1)\n",
    "df_pred"
   ]
  },
  {
   "cell_type": "markdown",
   "metadata": {},
   "source": [
    "# sklearn"
   ]
  },
  {
   "cell_type": "code",
   "execution_count": 31,
   "metadata": {},
   "outputs": [
    {
     "data": {
      "text/plain": [
       "SGDRegressor(alpha=0, average=False, early_stopping=False, epsilon=0.1,\n",
       "             eta0=0.001, fit_intercept=True, l1_ratio=0.15,\n",
       "             learning_rate='constant', loss='squared_loss', max_iter=1000,\n",
       "             n_iter_no_change=5, penalty='l2', power_t=0.25, random_state=None,\n",
       "             shuffle=True, tol=0.001, validation_fraction=0.1, verbose=0,\n",
       "             warm_start=False)"
      ]
     },
     "execution_count": 31,
     "metadata": {},
     "output_type": "execute_result"
    }
   ],
   "source": [
    "from sklearn.linear_model import SGDRegressor\n",
    "model=SGDRegressor(alpha=0,learning_rate=\"constant\",eta0=0.001)\n",
    "model.fit(X_transform,Y)"
   ]
  },
  {
   "cell_type": "code",
   "execution_count": 32,
   "metadata": {},
   "outputs": [
    {
     "data": {
      "text/plain": [
       "array([22.53049421])"
      ]
     },
     "execution_count": 32,
     "metadata": {},
     "output_type": "execute_result"
    }
   ],
   "source": [
    "model.intercept_"
   ]
  },
  {
   "cell_type": "code",
   "execution_count": 33,
   "metadata": {},
   "outputs": [
    {
     "data": {
      "text/plain": [
       "array([-0.81589739,  0.91268359, -0.16276166,  0.71300785, -1.81615915,\n",
       "        2.75186925, -0.04546646, -2.97644044,  1.80125191, -1.16941354,\n",
       "       -1.98864102,  0.85320111, -3.6691723 ])"
      ]
     },
     "execution_count": 33,
     "metadata": {},
     "output_type": "execute_result"
    }
   ],
   "source": [
    "model.coef_"
   ]
  },
  {
   "cell_type": "code",
   "execution_count": 41,
   "metadata": {},
   "outputs": [
    {
     "data": {
      "text/plain": [
       "array([-0.52954651,  0.7458838 , -0.40947582,  0.77208539, -0.42613122,\n",
       "        3.05323906, -0.15720171, -2.01078873,  1.11189853, -1.28711519,\n",
       "       -1.57598199,  0.78135512, -3.63182587])"
      ]
     },
     "execution_count": 41,
     "metadata": {},
     "output_type": "execute_result"
    }
   ],
   "source": [
    "w"
   ]
  },
  {
   "cell_type": "code",
   "execution_count": 35,
   "metadata": {},
   "outputs": [
    {
     "data": {
      "text/plain": [
       "22.537054780990182"
      ]
     },
     "execution_count": 35,
     "metadata": {},
     "output_type": "execute_result"
    }
   ],
   "source": [
    "b"
   ]
  },
  {
   "cell_type": "code",
   "execution_count": null,
   "metadata": {},
   "outputs": [],
   "source": []
  }
 ],
 "metadata": {
  "kernelspec": {
   "display_name": "Python 3",
   "language": "python",
   "name": "python3"
  },
  "language_info": {
   "codemirror_mode": {
    "name": "ipython",
    "version": 3
   },
   "file_extension": ".py",
   "mimetype": "text/x-python",
   "name": "python",
   "nbconvert_exporter": "python",
   "pygments_lexer": "ipython3",
   "version": "3.6.10"
  }
 },
 "nbformat": 4,
 "nbformat_minor": 4
}
